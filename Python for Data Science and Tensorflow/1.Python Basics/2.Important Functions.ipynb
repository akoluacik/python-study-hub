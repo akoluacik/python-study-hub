{
 "cells": [
  {
   "cell_type": "markdown",
   "id": "72152d9d",
   "metadata": {},
   "source": [
    "### map\n",
    "\n",
    "#### Map takes all objects in a list and allows you to apply a function to it."
   ]
  },
  {
   "cell_type": "code",
   "execution_count": 1,
   "id": "4a459c4e",
   "metadata": {},
   "outputs": [],
   "source": [
    "def division(number):\n",
    "    return number/2"
   ]
  },
  {
   "cell_type": "code",
   "execution_count": 2,
   "id": "07ff685e",
   "metadata": {},
   "outputs": [
    {
     "data": {
      "text/plain": [
       "[23, 76, 98, 66, 54, 23, 76, 49, 37, 16]"
      ]
     },
     "execution_count": 2,
     "metadata": {},
     "output_type": "execute_result"
    }
   ],
   "source": [
    "import random\n",
    "newList = [random.randint(0, 100) for _ in range(10)] # create a list contains 10 random numbers between 0-100.\n",
    "newList"
   ]
  },
  {
   "cell_type": "code",
   "execution_count": 3,
   "id": "c07a0798",
   "metadata": {},
   "outputs": [
    {
     "data": {
      "text/plain": [
       "[11.5, 38.0, 49.0, 33.0, 27.0, 11.5, 38.0, 24.5, 18.5, 8.0]"
      ]
     },
     "execution_count": 3,
     "metadata": {},
     "output_type": "execute_result"
    }
   ],
   "source": [
    "list(map(division, newList))"
   ]
  },
  {
   "cell_type": "code",
   "execution_count": 5,
   "id": "93373926",
   "metadata": {},
   "outputs": [],
   "source": [
    "def controlFunction(string:str):\n",
    "    return (\"a\" in string or \"A\" in string)"
   ]
  },
  {
   "cell_type": "code",
   "execution_count": 6,
   "id": "ce4aa221",
   "metadata": {},
   "outputs": [],
   "source": [
    "newList = [\"john\", \"gabriel\", \"nicolo\", \"antonio\", \"goytacaz\"]"
   ]
  },
  {
   "cell_type": "code",
   "execution_count": 7,
   "id": "2dbf68cc",
   "metadata": {},
   "outputs": [
    {
     "data": {
      "text/plain": [
       "[False, True, False, True, True]"
      ]
     },
     "execution_count": 7,
     "metadata": {},
     "output_type": "execute_result"
    }
   ],
   "source": [
    "list(map(controlFunction, newList))"
   ]
  },
  {
   "cell_type": "code",
   "execution_count": 8,
   "id": "09fb019f",
   "metadata": {},
   "outputs": [
    {
     "data": {
      "text/plain": [
       "[False, True, False, True, True]"
      ]
     },
     "execution_count": 8,
     "metadata": {},
     "output_type": "execute_result"
    }
   ],
   "source": [
    "result = list(map(controlFunction, newList))\n",
    "result"
   ]
  },
  {
   "cell_type": "code",
   "execution_count": 9,
   "id": "b483d975",
   "metadata": {},
   "outputs": [
    {
     "data": {
      "text/plain": [
       "2"
      ]
     },
     "execution_count": 9,
     "metadata": {},
     "output_type": "execute_result"
    }
   ],
   "source": [
    "result.count(False)"
   ]
  },
  {
   "cell_type": "markdown",
   "id": "88f1cbc4",
   "metadata": {},
   "source": [
    "### filter\n",
    "\n",
    "#### Filter takes all objects in a list and runs that through a function to create a new list with all objects that return True in that function."
   ]
  },
  {
   "cell_type": "code",
   "execution_count": 10,
   "id": "4edbb459",
   "metadata": {},
   "outputs": [
    {
     "data": {
      "text/plain": [
       "['gabriel', 'antonio', 'goytacaz']"
      ]
     },
     "execution_count": 10,
     "metadata": {},
     "output_type": "execute_result"
    }
   ],
   "source": [
    "list(filter(controlFunction, newList))"
   ]
  },
  {
   "cell_type": "markdown",
   "id": "bce52eea",
   "metadata": {},
   "source": [
    "### lambda"
   ]
  },
  {
   "cell_type": "code",
   "execution_count": 11,
   "id": "640da886",
   "metadata": {},
   "outputs": [],
   "source": [
    "mult = lambda n : n * 3"
   ]
  },
  {
   "cell_type": "code",
   "execution_count": 12,
   "id": "9f79c54d",
   "metadata": {},
   "outputs": [
    {
     "data": {
      "text/plain": [
       "3"
      ]
     },
     "execution_count": 12,
     "metadata": {},
     "output_type": "execute_result"
    }
   ],
   "source": [
    "mult(1)"
   ]
  },
  {
   "cell_type": "code",
   "execution_count": 14,
   "id": "ff22d623",
   "metadata": {},
   "outputs": [
    {
     "data": {
      "text/plain": [
       "[1, 1, 2, 8, 2, 0, 7, 10, 7, 8]"
      ]
     },
     "execution_count": 14,
     "metadata": {},
     "output_type": "execute_result"
    }
   ],
   "source": [
    "newList = [random.randint(0, 15) for _ in range(10)]\n",
    "newList"
   ]
  },
  {
   "cell_type": "code",
   "execution_count": 15,
   "id": "3308e5e2",
   "metadata": {},
   "outputs": [
    {
     "data": {
      "text/plain": [
       "[4, 4, 8, 32, 8, 0, 28, 40, 28, 32]"
      ]
     },
     "execution_count": 15,
     "metadata": {},
     "output_type": "execute_result"
    }
   ],
   "source": [
    "list(map(lambda n : n * 4, newList))"
   ]
  },
  {
   "cell_type": "code",
   "execution_count": 17,
   "id": "fc91ae00",
   "metadata": {},
   "outputs": [
    {
     "data": {
      "text/plain": [
       "[3, 3, 6, 24, 6, 0, 21, 30, 21, 24]"
      ]
     },
     "execution_count": 17,
     "metadata": {},
     "output_type": "execute_result"
    }
   ],
   "source": [
    "list(map(mult, newList))"
   ]
  },
  {
   "cell_type": "code",
   "execution_count": null,
   "id": "f8cf9b59",
   "metadata": {},
   "outputs": [],
   "source": []
  }
 ],
 "metadata": {
  "kernelspec": {
   "display_name": "Python 3 (ipykernel)",
   "language": "python",
   "name": "python3"
  },
  "language_info": {
   "codemirror_mode": {
    "name": "ipython",
    "version": 3
   },
   "file_extension": ".py",
   "mimetype": "text/x-python",
   "name": "python",
   "nbconvert_exporter": "python",
   "pygments_lexer": "ipython3",
   "version": "3.9.7"
  }
 },
 "nbformat": 4,
 "nbformat_minor": 5
}
