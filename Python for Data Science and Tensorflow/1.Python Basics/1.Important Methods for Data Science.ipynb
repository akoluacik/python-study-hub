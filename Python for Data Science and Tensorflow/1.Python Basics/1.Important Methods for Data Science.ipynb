{
 "cells": [
  {
   "cell_type": "markdown",
   "id": "73b50f36",
   "metadata": {},
   "source": [
    "### Range"
   ]
  },
  {
   "cell_type": "code",
   "execution_count": 1,
   "id": "98cc3519",
   "metadata": {},
   "outputs": [
    {
     "data": {
      "text/plain": [
       "range(0, 15)"
      ]
     },
     "execution_count": 1,
     "metadata": {},
     "output_type": "execute_result"
    }
   ],
   "source": [
    "range(15)"
   ]
  },
  {
   "cell_type": "code",
   "execution_count": 2,
   "id": "363de352",
   "metadata": {},
   "outputs": [
    {
     "data": {
      "text/plain": [
       "[0, 1, 2, 3, 4, 5, 6, 7, 8, 9, 10, 11, 12, 13, 14, 15, 16, 17, 18, 19]"
      ]
     },
     "execution_count": 2,
     "metadata": {},
     "output_type": "execute_result"
    }
   ],
   "source": [
    "list(range(20))"
   ]
  },
  {
   "cell_type": "code",
   "execution_count": 3,
   "id": "4d3c5083",
   "metadata": {},
   "outputs": [
    {
     "data": {
      "text/plain": [
       "[3, 5, 7, 9, 11, 13]"
      ]
     },
     "execution_count": 3,
     "metadata": {},
     "output_type": "execute_result"
    }
   ],
   "source": [
    "list(range(3, 15, 2))"
   ]
  },
  {
   "cell_type": "code",
   "execution_count": 4,
   "id": "1106f69a",
   "metadata": {},
   "outputs": [
    {
     "data": {
      "text/plain": [
       "[20, 19, 18, 17, 16, 15, 14, 13, 12, 11, 10, 9, 8, 7, 6, 5, 4, 3, 2, 1]"
      ]
     },
     "execution_count": 4,
     "metadata": {},
     "output_type": "execute_result"
    }
   ],
   "source": [
    "list(range(20,0, -1))"
   ]
  },
  {
   "cell_type": "code",
   "execution_count": 5,
   "id": "e6eed4d8",
   "metadata": {},
   "outputs": [
    {
     "data": {
      "text/plain": [
       "[20, 18, 16, 14, 12, 10, 8, 6, 4, 2]"
      ]
     },
     "execution_count": 5,
     "metadata": {},
     "output_type": "execute_result"
    }
   ],
   "source": [
    "list(range(20, 0, -2))"
   ]
  },
  {
   "cell_type": "markdown",
   "id": "193fa262",
   "metadata": {},
   "source": [
    "### Enumerate"
   ]
  },
  {
   "cell_type": "code",
   "execution_count": 7,
   "id": "c9dc48dd",
   "metadata": {},
   "outputs": [
    {
     "name": "stdout",
     "output_type": "stream",
     "text": [
      "up-to-date number: 5 up-to-date index:0\n",
      "up-to-date number: 6 up-to-date index:1\n",
      "up-to-date number: 7 up-to-date index:2\n",
      "up-to-date number: 8 up-to-date index:3\n",
      "up-to-date number: 9 up-to-date index:4\n",
      "up-to-date number: 10 up-to-date index:5\n",
      "up-to-date number: 11 up-to-date index:6\n",
      "up-to-date number: 12 up-to-date index:7\n",
      "up-to-date number: 13 up-to-date index:8\n",
      "up-to-date number: 14 up-to-date index:9\n"
     ]
    }
   ],
   "source": [
    "index = 0\n",
    "for number in list(range(5, 15)):\n",
    "    print(f\"up-to-date number: {number} up-to-date index:{index}\")\n",
    "    index = index + 1"
   ]
  },
  {
   "cell_type": "code",
   "execution_count": 8,
   "id": "409a016d",
   "metadata": {},
   "outputs": [
    {
     "name": "stdout",
     "output_type": "stream",
     "text": [
      "(0, 5) <class 'tuple'>\n",
      "(1, 6) <class 'tuple'>\n",
      "(2, 7) <class 'tuple'>\n",
      "(3, 8) <class 'tuple'>\n",
      "(4, 9) <class 'tuple'>\n",
      "(5, 10) <class 'tuple'>\n",
      "(6, 11) <class 'tuple'>\n",
      "(7, 12) <class 'tuple'>\n",
      "(8, 13) <class 'tuple'>\n",
      "(9, 14) <class 'tuple'>\n"
     ]
    }
   ],
   "source": [
    "for element in enumerate(list(range(5, 15))):\n",
    "    print(element, type(element))"
   ]
  },
  {
   "cell_type": "code",
   "execution_count": 10,
   "id": "4d315c1a",
   "metadata": {},
   "outputs": [
    {
     "name": "stdout",
     "output_type": "stream",
     "text": [
      "up-to-date number:0 up-to-date index:5\n",
      "up-to-date number:1 up-to-date index:6\n",
      "up-to-date number:2 up-to-date index:7\n",
      "up-to-date number:3 up-to-date index:8\n",
      "up-to-date number:4 up-to-date index:9\n",
      "up-to-date number:5 up-to-date index:10\n",
      "up-to-date number:6 up-to-date index:11\n",
      "up-to-date number:7 up-to-date index:12\n",
      "up-to-date number:8 up-to-date index:13\n",
      "up-to-date number:9 up-to-date index:14\n"
     ]
    }
   ],
   "source": [
    "for number, index in enumerate(list(range(5, 15))):\n",
    "    print(f\"up-to-date number:{number} up-to-date index:{index}\")"
   ]
  },
  {
   "cell_type": "markdown",
   "id": "084a1233",
   "metadata": {},
   "source": [
    "### Random"
   ]
  },
  {
   "cell_type": "code",
   "execution_count": 11,
   "id": "e8bf1038",
   "metadata": {},
   "outputs": [],
   "source": [
    "import random"
   ]
  },
  {
   "cell_type": "code",
   "execution_count": 13,
   "id": "6460d5b2",
   "metadata": {},
   "outputs": [
    {
     "data": {
      "text/plain": [
       "70"
      ]
     },
     "execution_count": 13,
     "metadata": {},
     "output_type": "execute_result"
    }
   ],
   "source": [
    "random.randint(0 , 100)"
   ]
  },
  {
   "cell_type": "code",
   "execution_count": 14,
   "id": "c4313200",
   "metadata": {},
   "outputs": [],
   "source": [
    "newList = list(range(0, 10))"
   ]
  },
  {
   "cell_type": "code",
   "execution_count": 15,
   "id": "ceb3f442",
   "metadata": {},
   "outputs": [
    {
     "data": {
      "text/plain": [
       "[0, 1, 2, 3, 4, 5, 6, 7, 8, 9]"
      ]
     },
     "execution_count": 15,
     "metadata": {},
     "output_type": "execute_result"
    }
   ],
   "source": [
    "newList"
   ]
  },
  {
   "cell_type": "code",
   "execution_count": 18,
   "id": "41864831",
   "metadata": {},
   "outputs": [
    {
     "data": {
      "text/plain": [
       "2"
      ]
     },
     "execution_count": 18,
     "metadata": {},
     "output_type": "execute_result"
    }
   ],
   "source": [
    "newList[random.randint(0, len(newList))]"
   ]
  },
  {
   "cell_type": "code",
   "execution_count": 19,
   "id": "9593cfcb",
   "metadata": {},
   "outputs": [
    {
     "data": {
      "text/plain": [
       "[7, 6, 0, 3, 8, 4, 1, 2, 5, 9]"
      ]
     },
     "execution_count": 19,
     "metadata": {},
     "output_type": "execute_result"
    }
   ],
   "source": [
    "random.shuffle(newList)\n",
    "newList"
   ]
  },
  {
   "cell_type": "code",
   "execution_count": 23,
   "id": "488573d1",
   "metadata": {},
   "outputs": [
    {
     "data": {
      "text/plain": [
       "2"
      ]
     },
     "execution_count": 23,
     "metadata": {},
     "output_type": "execute_result"
    }
   ],
   "source": [
    "randIdx = random.randint(0, len(newList))\n",
    "randIdx"
   ]
  },
  {
   "cell_type": "code",
   "execution_count": 24,
   "id": "ef7c2d27",
   "metadata": {},
   "outputs": [
    {
     "data": {
      "text/plain": [
       "0"
      ]
     },
     "execution_count": 24,
     "metadata": {},
     "output_type": "execute_result"
    }
   ],
   "source": [
    "newList[randIdx]"
   ]
  },
  {
   "cell_type": "markdown",
   "id": "b4313367",
   "metadata": {},
   "source": [
    "### zip"
   ]
  },
  {
   "cell_type": "code",
   "execution_count": 25,
   "id": "e7fa6b6d",
   "metadata": {},
   "outputs": [],
   "source": [
    "foodLst = [\"banana\", \"pineapple\", \"apple\"]\n",
    "calory = [100, 200, 300]\n",
    "dayList = [\"monday\", \"tuesday\", \"wednesday\"]"
   ]
  },
  {
   "cell_type": "code",
   "execution_count": 26,
   "id": "599171a4",
   "metadata": {},
   "outputs": [
    {
     "data": {
      "text/plain": [
       "[('banana', 100, 'monday'),\n",
       " ('pineapple', 200, 'tuesday'),\n",
       " ('apple', 300, 'wednesday')]"
      ]
     },
     "execution_count": 26,
     "metadata": {},
     "output_type": "execute_result"
    }
   ],
   "source": [
    "list(zip(foodLst, calory, dayList))"
   ]
  },
  {
   "cell_type": "code",
   "execution_count": 27,
   "id": "803bdfc2",
   "metadata": {
    "scrolled": true
   },
   "outputs": [
    {
     "name": "stdout",
     "output_type": "stream",
     "text": [
      "type:<class 'tuple'>, element:('banana', 100, 'monday')\n",
      "type:<class 'tuple'>, element:('pineapple', 200, 'tuesday')\n",
      "type:<class 'tuple'>, element:('apple', 300, 'wednesday')\n"
     ]
    }
   ],
   "source": [
    "zippedList = list(zip(foodLst, calory, dayList))\n",
    "for element in zippedList:\n",
    "    print(f\"type:{type(element)}, element:{element}\")"
   ]
  },
  {
   "cell_type": "code",
   "execution_count": 28,
   "id": "fe22c3d8",
   "metadata": {
    "scrolled": true
   },
   "outputs": [
    {
     "name": "stdout",
     "output_type": "stream",
     "text": [
      "Help on class zip in module builtins:\n",
      "\n",
      "class zip(object)\n",
      " |  zip(*iterables) --> A zip object yielding tuples until an input is exhausted.\n",
      " |  \n",
      " |     >>> list(zip('abcdefg', range(3), range(4)))\n",
      " |     [('a', 0, 0), ('b', 1, 1), ('c', 2, 2)]\n",
      " |  \n",
      " |  The zip object yields n-length tuples, where n is the number of iterables\n",
      " |  passed as positional arguments to zip().  The i-th element in every tuple\n",
      " |  comes from the i-th iterable argument to zip().  This continues until the\n",
      " |  shortest argument is exhausted.\n",
      " |  \n",
      " |  Methods defined here:\n",
      " |  \n",
      " |  __getattribute__(self, name, /)\n",
      " |      Return getattr(self, name).\n",
      " |  \n",
      " |  __iter__(self, /)\n",
      " |      Implement iter(self).\n",
      " |  \n",
      " |  __next__(self, /)\n",
      " |      Implement next(self).\n",
      " |  \n",
      " |  __reduce__(...)\n",
      " |      Return state information for pickling.\n",
      " |  \n",
      " |  ----------------------------------------------------------------------\n",
      " |  Static methods defined here:\n",
      " |  \n",
      " |  __new__(*args, **kwargs) from builtins.type\n",
      " |      Create and return a new object.  See help(type) for accurate signature.\n",
      "\n"
     ]
    }
   ],
   "source": [
    "help(zip)"
   ]
  },
  {
   "cell_type": "code",
   "execution_count": null,
   "id": "facdf352",
   "metadata": {},
   "outputs": [],
   "source": []
  }
 ],
 "metadata": {
  "kernelspec": {
   "display_name": "Python 3 (ipykernel)",
   "language": "python",
   "name": "python3"
  },
  "language_info": {
   "codemirror_mode": {
    "name": "ipython",
    "version": 3
   },
   "file_extension": ".py",
   "mimetype": "text/x-python",
   "name": "python",
   "nbconvert_exporter": "python",
   "pygments_lexer": "ipython3",
   "version": "3.9.7"
  }
 },
 "nbformat": 4,
 "nbformat_minor": 5
}
