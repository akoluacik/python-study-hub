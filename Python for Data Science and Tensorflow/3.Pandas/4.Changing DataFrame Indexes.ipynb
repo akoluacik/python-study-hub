{
 "cells": [
  {
   "cell_type": "code",
   "execution_count": 1,
   "id": "28392aa5",
   "metadata": {},
   "outputs": [],
   "source": [
    "import pandas as pd\n",
    "import numpy as np"
   ]
  },
  {
   "cell_type": "code",
   "execution_count": 3,
   "id": "a29eca62",
   "metadata": {},
   "outputs": [
    {
     "data": {
      "text/html": [
       "<div>\n",
       "<style scoped>\n",
       "    .dataframe tbody tr th:only-of-type {\n",
       "        vertical-align: middle;\n",
       "    }\n",
       "\n",
       "    .dataframe tbody tr th {\n",
       "        vertical-align: top;\n",
       "    }\n",
       "\n",
       "    .dataframe thead th {\n",
       "        text-align: right;\n",
       "    }\n",
       "</style>\n",
       "<table border=\"1\" class=\"dataframe\">\n",
       "  <thead>\n",
       "    <tr style=\"text-align: right;\">\n",
       "      <th></th>\n",
       "      <th>Wage</th>\n",
       "      <th>Age</th>\n",
       "      <th>Working Hour</th>\n",
       "    </tr>\n",
       "  </thead>\n",
       "  <tbody>\n",
       "    <tr>\n",
       "      <th>John</th>\n",
       "      <td>-0.978444</td>\n",
       "      <td>0.422251</td>\n",
       "      <td>-0.047927</td>\n",
       "    </tr>\n",
       "    <tr>\n",
       "      <th>Gabriele</th>\n",
       "      <td>-0.932502</td>\n",
       "      <td>-1.208142</td>\n",
       "      <td>-0.171069</td>\n",
       "    </tr>\n",
       "    <tr>\n",
       "      <th>Nicolo</th>\n",
       "      <td>0.226036</td>\n",
       "      <td>-1.685960</td>\n",
       "      <td>0.126519</td>\n",
       "    </tr>\n",
       "    <tr>\n",
       "      <th>Antonio</th>\n",
       "      <td>1.456155</td>\n",
       "      <td>0.337746</td>\n",
       "      <td>-1.344223</td>\n",
       "    </tr>\n",
       "  </tbody>\n",
       "</table>\n",
       "</div>"
      ],
      "text/plain": [
       "              Wage       Age  Working Hour\n",
       "John     -0.978444  0.422251     -0.047927\n",
       "Gabriele -0.932502 -1.208142     -0.171069\n",
       "Nicolo    0.226036 -1.685960      0.126519\n",
       "Antonio   1.456155  0.337746     -1.344223"
      ]
     },
     "execution_count": 3,
     "metadata": {},
     "output_type": "execute_result"
    }
   ],
   "source": [
    "data = np.random.randn(4,3)\n",
    "df = pd.DataFrame(data, index=[\"John\", \"Gabriele\", \"Nicolo\", \"Antonio\"], columns=[\"Wage\", \"Age\", \"Working Hour\"])\n",
    "df"
   ]
  },
  {
   "cell_type": "markdown",
   "id": "9f714dd2",
   "metadata": {},
   "source": [
    "#### reset_index(): Removes the specified index name, new index names are default names"
   ]
  },
  {
   "cell_type": "code",
   "execution_count": 5,
   "id": "d28482fb",
   "metadata": {},
   "outputs": [
    {
     "data": {
      "text/html": [
       "<div>\n",
       "<style scoped>\n",
       "    .dataframe tbody tr th:only-of-type {\n",
       "        vertical-align: middle;\n",
       "    }\n",
       "\n",
       "    .dataframe tbody tr th {\n",
       "        vertical-align: top;\n",
       "    }\n",
       "\n",
       "    .dataframe thead th {\n",
       "        text-align: right;\n",
       "    }\n",
       "</style>\n",
       "<table border=\"1\" class=\"dataframe\">\n",
       "  <thead>\n",
       "    <tr style=\"text-align: right;\">\n",
       "      <th></th>\n",
       "      <th>index</th>\n",
       "      <th>Wage</th>\n",
       "      <th>Age</th>\n",
       "      <th>Working Hour</th>\n",
       "    </tr>\n",
       "  </thead>\n",
       "  <tbody>\n",
       "    <tr>\n",
       "      <th>0</th>\n",
       "      <td>John</td>\n",
       "      <td>-0.978444</td>\n",
       "      <td>0.422251</td>\n",
       "      <td>-0.047927</td>\n",
       "    </tr>\n",
       "    <tr>\n",
       "      <th>1</th>\n",
       "      <td>Gabriele</td>\n",
       "      <td>-0.932502</td>\n",
       "      <td>-1.208142</td>\n",
       "      <td>-0.171069</td>\n",
       "    </tr>\n",
       "    <tr>\n",
       "      <th>2</th>\n",
       "      <td>Nicolo</td>\n",
       "      <td>0.226036</td>\n",
       "      <td>-1.685960</td>\n",
       "      <td>0.126519</td>\n",
       "    </tr>\n",
       "    <tr>\n",
       "      <th>3</th>\n",
       "      <td>Antonio</td>\n",
       "      <td>1.456155</td>\n",
       "      <td>0.337746</td>\n",
       "      <td>-1.344223</td>\n",
       "    </tr>\n",
       "  </tbody>\n",
       "</table>\n",
       "</div>"
      ],
      "text/plain": [
       "      index      Wage       Age  Working Hour\n",
       "0      John -0.978444  0.422251     -0.047927\n",
       "1  Gabriele -0.932502 -1.208142     -0.171069\n",
       "2    Nicolo  0.226036 -1.685960      0.126519\n",
       "3   Antonio  1.456155  0.337746     -1.344223"
      ]
     },
     "execution_count": 5,
     "metadata": {},
     "output_type": "execute_result"
    }
   ],
   "source": [
    "df.reset_index()"
   ]
  },
  {
   "cell_type": "markdown",
   "id": "5607cb90",
   "metadata": {},
   "source": [
    "#### set_index(): sets given pandas series as new index"
   ]
  },
  {
   "cell_type": "code",
   "execution_count": 7,
   "id": "dd134a58",
   "metadata": {},
   "outputs": [
    {
     "data": {
      "text/html": [
       "<div>\n",
       "<style scoped>\n",
       "    .dataframe tbody tr th:only-of-type {\n",
       "        vertical-align: middle;\n",
       "    }\n",
       "\n",
       "    .dataframe tbody tr th {\n",
       "        vertical-align: top;\n",
       "    }\n",
       "\n",
       "    .dataframe thead th {\n",
       "        text-align: right;\n",
       "    }\n",
       "</style>\n",
       "<table border=\"1\" class=\"dataframe\">\n",
       "  <thead>\n",
       "    <tr style=\"text-align: right;\">\n",
       "      <th></th>\n",
       "      <th>Wage</th>\n",
       "      <th>Age</th>\n",
       "      <th>Working Hour</th>\n",
       "      <th>New Idx</th>\n",
       "    </tr>\n",
       "  </thead>\n",
       "  <tbody>\n",
       "    <tr>\n",
       "      <th>John</th>\n",
       "      <td>-0.978444</td>\n",
       "      <td>0.422251</td>\n",
       "      <td>-0.047927</td>\n",
       "      <td>Joh</td>\n",
       "    </tr>\n",
       "    <tr>\n",
       "      <th>Gabriele</th>\n",
       "      <td>-0.932502</td>\n",
       "      <td>-1.208142</td>\n",
       "      <td>-0.171069</td>\n",
       "      <td>Gab</td>\n",
       "    </tr>\n",
       "    <tr>\n",
       "      <th>Nicolo</th>\n",
       "      <td>0.226036</td>\n",
       "      <td>-1.685960</td>\n",
       "      <td>0.126519</td>\n",
       "      <td>Nic</td>\n",
       "    </tr>\n",
       "    <tr>\n",
       "      <th>Antonio</th>\n",
       "      <td>1.456155</td>\n",
       "      <td>0.337746</td>\n",
       "      <td>-1.344223</td>\n",
       "      <td>Ant</td>\n",
       "    </tr>\n",
       "  </tbody>\n",
       "</table>\n",
       "</div>"
      ],
      "text/plain": [
       "              Wage       Age  Working Hour New Idx\n",
       "John     -0.978444  0.422251     -0.047927     Joh\n",
       "Gabriele -0.932502 -1.208142     -0.171069     Gab\n",
       "Nicolo    0.226036 -1.685960      0.126519     Nic\n",
       "Antonio   1.456155  0.337746     -1.344223     Ant"
      ]
     },
     "execution_count": 7,
     "metadata": {},
     "output_type": "execute_result"
    }
   ],
   "source": [
    "newIdxList = [\"Joh\", \"Gab\", \"Nic\", \"Ant\"]\n",
    "df[\"New Idx\"] = newIdxList\n",
    "df"
   ]
  },
  {
   "cell_type": "code",
   "execution_count": 8,
   "id": "7af6ae2d",
   "metadata": {},
   "outputs": [
    {
     "data": {
      "text/html": [
       "<div>\n",
       "<style scoped>\n",
       "    .dataframe tbody tr th:only-of-type {\n",
       "        vertical-align: middle;\n",
       "    }\n",
       "\n",
       "    .dataframe tbody tr th {\n",
       "        vertical-align: top;\n",
       "    }\n",
       "\n",
       "    .dataframe thead th {\n",
       "        text-align: right;\n",
       "    }\n",
       "</style>\n",
       "<table border=\"1\" class=\"dataframe\">\n",
       "  <thead>\n",
       "    <tr style=\"text-align: right;\">\n",
       "      <th></th>\n",
       "      <th>Wage</th>\n",
       "      <th>Age</th>\n",
       "      <th>Working Hour</th>\n",
       "    </tr>\n",
       "    <tr>\n",
       "      <th>New Idx</th>\n",
       "      <th></th>\n",
       "      <th></th>\n",
       "      <th></th>\n",
       "    </tr>\n",
       "  </thead>\n",
       "  <tbody>\n",
       "    <tr>\n",
       "      <th>Joh</th>\n",
       "      <td>-0.978444</td>\n",
       "      <td>0.422251</td>\n",
       "      <td>-0.047927</td>\n",
       "    </tr>\n",
       "    <tr>\n",
       "      <th>Gab</th>\n",
       "      <td>-0.932502</td>\n",
       "      <td>-1.208142</td>\n",
       "      <td>-0.171069</td>\n",
       "    </tr>\n",
       "    <tr>\n",
       "      <th>Nic</th>\n",
       "      <td>0.226036</td>\n",
       "      <td>-1.685960</td>\n",
       "      <td>0.126519</td>\n",
       "    </tr>\n",
       "    <tr>\n",
       "      <th>Ant</th>\n",
       "      <td>1.456155</td>\n",
       "      <td>0.337746</td>\n",
       "      <td>-1.344223</td>\n",
       "    </tr>\n",
       "  </tbody>\n",
       "</table>\n",
       "</div>"
      ],
      "text/plain": [
       "             Wage       Age  Working Hour\n",
       "New Idx                                  \n",
       "Joh     -0.978444  0.422251     -0.047927\n",
       "Gab     -0.932502 -1.208142     -0.171069\n",
       "Nic      0.226036 -1.685960      0.126519\n",
       "Ant      1.456155  0.337746     -1.344223"
      ]
     },
     "execution_count": 8,
     "metadata": {},
     "output_type": "execute_result"
    }
   ],
   "source": [
    "df.set_index(\"New Idx\")"
   ]
  },
  {
   "cell_type": "code",
   "execution_count": 9,
   "id": "e6d53e5d",
   "metadata": {},
   "outputs": [
    {
     "data": {
      "text/html": [
       "<div>\n",
       "<style scoped>\n",
       "    .dataframe tbody tr th:only-of-type {\n",
       "        vertical-align: middle;\n",
       "    }\n",
       "\n",
       "    .dataframe tbody tr th {\n",
       "        vertical-align: top;\n",
       "    }\n",
       "\n",
       "    .dataframe thead th {\n",
       "        text-align: right;\n",
       "    }\n",
       "</style>\n",
       "<table border=\"1\" class=\"dataframe\">\n",
       "  <thead>\n",
       "    <tr style=\"text-align: right;\">\n",
       "      <th></th>\n",
       "      <th>Wage</th>\n",
       "      <th>Age</th>\n",
       "      <th>Working Hour</th>\n",
       "      <th>New Idx</th>\n",
       "    </tr>\n",
       "  </thead>\n",
       "  <tbody>\n",
       "    <tr>\n",
       "      <th>John</th>\n",
       "      <td>-0.978444</td>\n",
       "      <td>0.422251</td>\n",
       "      <td>-0.047927</td>\n",
       "      <td>Joh</td>\n",
       "    </tr>\n",
       "    <tr>\n",
       "      <th>Gabriele</th>\n",
       "      <td>-0.932502</td>\n",
       "      <td>-1.208142</td>\n",
       "      <td>-0.171069</td>\n",
       "      <td>Gab</td>\n",
       "    </tr>\n",
       "    <tr>\n",
       "      <th>Nicolo</th>\n",
       "      <td>0.226036</td>\n",
       "      <td>-1.685960</td>\n",
       "      <td>0.126519</td>\n",
       "      <td>Nic</td>\n",
       "    </tr>\n",
       "    <tr>\n",
       "      <th>Antonio</th>\n",
       "      <td>1.456155</td>\n",
       "      <td>0.337746</td>\n",
       "      <td>-1.344223</td>\n",
       "      <td>Ant</td>\n",
       "    </tr>\n",
       "  </tbody>\n",
       "</table>\n",
       "</div>"
      ],
      "text/plain": [
       "              Wage       Age  Working Hour New Idx\n",
       "John     -0.978444  0.422251     -0.047927     Joh\n",
       "Gabriele -0.932502 -1.208142     -0.171069     Gab\n",
       "Nicolo    0.226036 -1.685960      0.126519     Nic\n",
       "Antonio   1.456155  0.337746     -1.344223     Ant"
      ]
     },
     "execution_count": 9,
     "metadata": {},
     "output_type": "execute_result"
    }
   ],
   "source": [
    "df"
   ]
  },
  {
   "cell_type": "code",
   "execution_count": 10,
   "id": "22bee167",
   "metadata": {},
   "outputs": [],
   "source": [
    "df.set_index(\"New Idx\", inplace=True)"
   ]
  },
  {
   "cell_type": "code",
   "execution_count": 11,
   "id": "d8e69a60",
   "metadata": {},
   "outputs": [
    {
     "data": {
      "text/html": [
       "<div>\n",
       "<style scoped>\n",
       "    .dataframe tbody tr th:only-of-type {\n",
       "        vertical-align: middle;\n",
       "    }\n",
       "\n",
       "    .dataframe tbody tr th {\n",
       "        vertical-align: top;\n",
       "    }\n",
       "\n",
       "    .dataframe thead th {\n",
       "        text-align: right;\n",
       "    }\n",
       "</style>\n",
       "<table border=\"1\" class=\"dataframe\">\n",
       "  <thead>\n",
       "    <tr style=\"text-align: right;\">\n",
       "      <th></th>\n",
       "      <th>Wage</th>\n",
       "      <th>Age</th>\n",
       "      <th>Working Hour</th>\n",
       "    </tr>\n",
       "    <tr>\n",
       "      <th>New Idx</th>\n",
       "      <th></th>\n",
       "      <th></th>\n",
       "      <th></th>\n",
       "    </tr>\n",
       "  </thead>\n",
       "  <tbody>\n",
       "    <tr>\n",
       "      <th>Joh</th>\n",
       "      <td>-0.978444</td>\n",
       "      <td>0.422251</td>\n",
       "      <td>-0.047927</td>\n",
       "    </tr>\n",
       "    <tr>\n",
       "      <th>Gab</th>\n",
       "      <td>-0.932502</td>\n",
       "      <td>-1.208142</td>\n",
       "      <td>-0.171069</td>\n",
       "    </tr>\n",
       "    <tr>\n",
       "      <th>Nic</th>\n",
       "      <td>0.226036</td>\n",
       "      <td>-1.685960</td>\n",
       "      <td>0.126519</td>\n",
       "    </tr>\n",
       "    <tr>\n",
       "      <th>Ant</th>\n",
       "      <td>1.456155</td>\n",
       "      <td>0.337746</td>\n",
       "      <td>-1.344223</td>\n",
       "    </tr>\n",
       "  </tbody>\n",
       "</table>\n",
       "</div>"
      ],
      "text/plain": [
       "             Wage       Age  Working Hour\n",
       "New Idx                                  \n",
       "Joh     -0.978444  0.422251     -0.047927\n",
       "Gab     -0.932502 -1.208142     -0.171069\n",
       "Nic      0.226036 -1.685960      0.126519\n",
       "Ant      1.456155  0.337746     -1.344223"
      ]
     },
     "execution_count": 11,
     "metadata": {},
     "output_type": "execute_result"
    }
   ],
   "source": [
    "df"
   ]
  },
  {
   "cell_type": "code",
   "execution_count": null,
   "id": "4fa04088",
   "metadata": {},
   "outputs": [],
   "source": []
  }
 ],
 "metadata": {
  "kernelspec": {
   "display_name": "Python 3 (ipykernel)",
   "language": "python",
   "name": "python3"
  },
  "language_info": {
   "codemirror_mode": {
    "name": "ipython",
    "version": 3
   },
   "file_extension": ".py",
   "mimetype": "text/x-python",
   "name": "python",
   "nbconvert_exporter": "python",
   "pygments_lexer": "ipython3",
   "version": "3.9.7"
  }
 },
 "nbformat": 4,
 "nbformat_minor": 5
}
