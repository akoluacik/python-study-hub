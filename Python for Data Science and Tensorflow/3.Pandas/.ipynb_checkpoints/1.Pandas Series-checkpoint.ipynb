{
 "cells": [
  {
   "cell_type": "code",
   "execution_count": 1,
   "id": "da696a5c",
   "metadata": {},
   "outputs": [],
   "source": [
    "import numpy as np\n",
    "import pandas as pd"
   ]
  },
  {
   "cell_type": "markdown",
   "id": "f9b5dc87",
   "metadata": {},
   "source": [
    "#### Series"
   ]
  },
  {
   "cell_type": "code",
   "execution_count": 2,
   "id": "a4449d8f",
   "metadata": {},
   "outputs": [],
   "source": [
    "myDict = {\"Toyota\" : 2017, \"Wolkwagen\" : 2015, \"Audi\" : 2016}"
   ]
  },
  {
   "cell_type": "code",
   "execution_count": 3,
   "id": "5d7cfd76",
   "metadata": {},
   "outputs": [
    {
     "data": {
      "text/plain": [
       "Toyota       2017\n",
       "Wolkwagen    2015\n",
       "Audi         2016\n",
       "dtype: int64"
      ]
     },
     "execution_count": 3,
     "metadata": {},
     "output_type": "execute_result"
    }
   ],
   "source": [
    "pd.Series(myDict)"
   ]
  },
  {
   "cell_type": "code",
   "execution_count": 6,
   "id": "620fdce0",
   "metadata": {},
   "outputs": [
    {
     "data": {
      "text/plain": [
       "Toyota        2017\n",
       "Wolkswagen    2015\n",
       "Audi          2016\n",
       "dtype: int64"
      ]
     },
     "execution_count": 6,
     "metadata": {},
     "output_type": "execute_result"
    }
   ],
   "source": [
    "models = [2017, 2015, 2016] #actual value\n",
    "brands = [\"Toyota\", \"Wolkswagen\", \"Audi\"] #index\n",
    "pd.Series(models, brands)"
   ]
  },
  {
   "cell_type": "code",
   "execution_count": 7,
   "id": "f2249564",
   "metadata": {},
   "outputs": [
    {
     "data": {
      "text/plain": [
       "2017        Toyota\n",
       "2015    Wolkswagen\n",
       "2016          Audi\n",
       "dtype: object"
      ]
     },
     "execution_count": 7,
     "metadata": {},
     "output_type": "execute_result"
    }
   ],
   "source": [
    "pd.Series(brands, models)"
   ]
  },
  {
   "cell_type": "markdown",
   "id": "52315e3a",
   "metadata": {},
   "source": [
    "#### Series Summation"
   ]
  },
  {
   "cell_type": "code",
   "execution_count": 8,
   "id": "5932b80c",
   "metadata": {},
   "outputs": [],
   "source": [
    "results_in_2021 = pd.Series([84, 84, 82], [\"Beşiktaş\", \"Galatasaray\", \"Fenerbahçe\"])\n",
    "results_in_2020 = pd.Series([62, 56, 53], [\"Beşiktaş\", \"Galatasaray\", \"Fenerbahçe\"])"
   ]
  },
  {
   "cell_type": "code",
   "execution_count": 9,
   "id": "33a44651",
   "metadata": {},
   "outputs": [
    {
     "data": {
      "text/plain": [
       "62"
      ]
     },
     "execution_count": 9,
     "metadata": {},
     "output_type": "execute_result"
    }
   ],
   "source": [
    "results_in_2020[\"Beşiktaş\"]"
   ]
  },
  {
   "cell_type": "code",
   "execution_count": 10,
   "id": "8b183625",
   "metadata": {},
   "outputs": [
    {
     "data": {
      "text/plain": [
       "84"
      ]
     },
     "execution_count": 10,
     "metadata": {},
     "output_type": "execute_result"
    }
   ],
   "source": [
    "results_in_2021[\"Beşiktaş\"]"
   ]
  },
  {
   "cell_type": "code",
   "execution_count": 11,
   "id": "fcf91f5b",
   "metadata": {},
   "outputs": [
    {
     "data": {
      "text/plain": [
       "82"
      ]
     },
     "execution_count": 11,
     "metadata": {},
     "output_type": "execute_result"
    }
   ],
   "source": [
    "results_in_2021[\"Fenerbahçe\"]"
   ]
  },
  {
   "cell_type": "code",
   "execution_count": 12,
   "id": "8bf4c356",
   "metadata": {},
   "outputs": [
    {
     "data": {
      "text/plain": [
       "Beşiktaş       146\n",
       "Galatasaray    140\n",
       "Fenerbahçe     135\n",
       "dtype: int64"
      ]
     },
     "execution_count": 12,
     "metadata": {},
     "output_type": "execute_result"
    }
   ],
   "source": [
    "overall_results = results_in_2020 + results_in_2021\n",
    "overall_results"
   ]
  },
  {
   "cell_type": "code",
   "execution_count": 13,
   "id": "447f4b9c",
   "metadata": {},
   "outputs": [
    {
     "data": {
      "text/plain": [
       "Başakşehir       NaN\n",
       "Beşiktaş       146.0\n",
       "Fenerbahçe       NaN\n",
       "Galatasaray      NaN\n",
       "Trabzonspor      NaN\n",
       "dtype: float64"
      ]
     },
     "execution_count": 13,
     "metadata": {},
     "output_type": "execute_result"
    }
   ],
   "source": [
    "first_four_2020 = pd.Series([69, 65, 62], [\"Başakşehir\", \"Trabzonspor\", \"Beşiktaş\"])\n",
    "first_four_2021 = pd.Series([84, 84, 82], [\"Beşiktaş\", \"Galatasaray\", \"Fenerbahçe\"])\n",
    "last_res = first_four_2020 + first_four_2021\n",
    "last_res"
   ]
  },
  {
   "cell_type": "code",
   "execution_count": null,
   "id": "04317572",
   "metadata": {},
   "outputs": [],
   "source": []
  }
 ],
 "metadata": {
  "kernelspec": {
   "display_name": "Python 3 (ipykernel)",
   "language": "python",
   "name": "python3"
  },
  "language_info": {
   "codemirror_mode": {
    "name": "ipython",
    "version": 3
   },
   "file_extension": ".py",
   "mimetype": "text/x-python",
   "name": "python",
   "nbconvert_exporter": "python",
   "pygments_lexer": "ipython3",
   "version": "3.9.7"
  }
 },
 "nbformat": 4,
 "nbformat_minor": 5
}
