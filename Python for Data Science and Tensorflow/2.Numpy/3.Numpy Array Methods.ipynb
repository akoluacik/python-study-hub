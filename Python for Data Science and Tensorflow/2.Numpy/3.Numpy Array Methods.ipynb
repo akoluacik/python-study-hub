{
 "cells": [
  {
   "cell_type": "code",
   "execution_count": 1,
   "id": "8f0a9af3",
   "metadata": {},
   "outputs": [],
   "source": [
    "import numpy as np"
   ]
  },
  {
   "cell_type": "code",
   "execution_count": 2,
   "id": "50315bc8",
   "metadata": {},
   "outputs": [],
   "source": [
    "myNpArray = np.random.randn(20)"
   ]
  },
  {
   "cell_type": "code",
   "execution_count": 3,
   "id": "165f327f",
   "metadata": {},
   "outputs": [
    {
     "data": {
      "text/plain": [
       "array([ 0.89735713, -0.08195513, -0.35573469, -0.43427482, -0.04336897,\n",
       "       -0.12895218,  2.0064994 ,  1.08285108,  0.97425848,  0.03762112,\n",
       "        0.18949142, -0.55704224, -0.94225779, -0.39686688,  1.53198737,\n",
       "       -0.27672793,  1.01584533, -0.3586527 ,  0.1376104 , -0.11155013])"
      ]
     },
     "execution_count": 3,
     "metadata": {},
     "output_type": "execute_result"
    }
   ],
   "source": [
    "myNpArray"
   ]
  },
  {
   "cell_type": "code",
   "execution_count": 4,
   "id": "d3041e21",
   "metadata": {},
   "outputs": [
    {
     "data": {
      "text/plain": [
       "array([[ 0.89735713, -0.08195513, -0.35573469, -0.43427482, -0.04336897],\n",
       "       [-0.12895218,  2.0064994 ,  1.08285108,  0.97425848,  0.03762112],\n",
       "       [ 0.18949142, -0.55704224, -0.94225779, -0.39686688,  1.53198737],\n",
       "       [-0.27672793,  1.01584533, -0.3586527 ,  0.1376104 , -0.11155013]])"
      ]
     },
     "execution_count": 4,
     "metadata": {},
     "output_type": "execute_result"
    }
   ],
   "source": [
    "myNpArray.reshape(4, 5)"
   ]
  },
  {
   "cell_type": "code",
   "execution_count": 8,
   "id": "a65db881",
   "metadata": {},
   "outputs": [
    {
     "data": {
      "text/plain": [
       "2.00649940376104"
      ]
     },
     "execution_count": 8,
     "metadata": {},
     "output_type": "execute_result"
    }
   ],
   "source": [
    "myNpArray.max()"
   ]
  },
  {
   "cell_type": "code",
   "execution_count": 9,
   "id": "444bd7e3",
   "metadata": {},
   "outputs": [
    {
     "data": {
      "text/plain": [
       "-0.9422577925792627"
      ]
     },
     "execution_count": 9,
     "metadata": {},
     "output_type": "execute_result"
    }
   ],
   "source": [
    "myNpArray.min()"
   ]
  },
  {
   "cell_type": "code",
   "execution_count": 10,
   "id": "9c326db5",
   "metadata": {},
   "outputs": [
    {
     "data": {
      "text/plain": [
       "6"
      ]
     },
     "execution_count": 10,
     "metadata": {},
     "output_type": "execute_result"
    }
   ],
   "source": [
    "myNpArray.argmax()"
   ]
  },
  {
   "cell_type": "code",
   "execution_count": 12,
   "id": "c4d932ce",
   "metadata": {},
   "outputs": [
    {
     "data": {
      "text/plain": [
       "(4, 5)"
      ]
     },
     "execution_count": 12,
     "metadata": {},
     "output_type": "execute_result"
    }
   ],
   "source": [
    "myNpArray.shape"
   ]
  },
  {
   "cell_type": "code",
   "execution_count": null,
   "id": "c7fd4749",
   "metadata": {},
   "outputs": [],
   "source": []
  }
 ],
 "metadata": {
  "kernelspec": {
   "display_name": "Python 3 (ipykernel)",
   "language": "python",
   "name": "python3"
  },
  "language_info": {
   "codemirror_mode": {
    "name": "ipython",
    "version": 3
   },
   "file_extension": ".py",
   "mimetype": "text/x-python",
   "name": "python",
   "nbconvert_exporter": "python",
   "pygments_lexer": "ipython3",
   "version": "3.9.7"
  }
 },
 "nbformat": 4,
 "nbformat_minor": 5
}
