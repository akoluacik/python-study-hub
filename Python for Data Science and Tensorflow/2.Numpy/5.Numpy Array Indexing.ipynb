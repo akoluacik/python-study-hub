{
 "cells": [
  {
   "cell_type": "code",
   "execution_count": 1,
   "id": "3cda5299",
   "metadata": {},
   "outputs": [],
   "source": [
    "import numpy as np\n",
    "import random"
   ]
  },
  {
   "cell_type": "code",
   "execution_count": 2,
   "id": "e9d0789a",
   "metadata": {},
   "outputs": [
    {
     "data": {
      "text/plain": [
       "array([[ 1,  2,  3,  4],\n",
       "       [ 5,  6,  7,  8],\n",
       "       [ 9, 10, 11, 12],\n",
       "       [13, 14, 15, 16],\n",
       "       [17, 18, 19, 20]])"
      ]
     },
     "execution_count": 2,
     "metadata": {},
     "output_type": "execute_result"
    }
   ],
   "source": [
    "newList = np.arange(1, 21).reshape(5,4)\n",
    "newList"
   ]
  },
  {
   "cell_type": "code",
   "execution_count": 3,
   "id": "6880c6b3",
   "metadata": {},
   "outputs": [
    {
     "data": {
      "text/plain": [
       "7"
      ]
     },
     "execution_count": 3,
     "metadata": {},
     "output_type": "execute_result"
    }
   ],
   "source": [
    "newList[1, 2]"
   ]
  },
  {
   "cell_type": "code",
   "execution_count": 4,
   "id": "c70a7c77",
   "metadata": {},
   "outputs": [
    {
     "data": {
      "text/plain": [
       "7"
      ]
     },
     "execution_count": 4,
     "metadata": {},
     "output_type": "execute_result"
    }
   ],
   "source": [
    "newList[1][2]"
   ]
  },
  {
   "cell_type": "code",
   "execution_count": 5,
   "id": "dc9c490f",
   "metadata": {},
   "outputs": [
    {
     "data": {
      "text/plain": [
       "array([[ 7,  8],\n",
       "       [11, 12],\n",
       "       [15, 16],\n",
       "       [19, 20]])"
      ]
     },
     "execution_count": 5,
     "metadata": {},
     "output_type": "execute_result"
    }
   ],
   "source": [
    "newList[1:, 2:]"
   ]
  },
  {
   "cell_type": "code",
   "execution_count": 16,
   "id": "a3ae8895",
   "metadata": {},
   "outputs": [
    {
     "data": {
      "text/plain": [
       "array([[ 9, 10, 11, 12],\n",
       "       [ 1,  2,  3,  4],\n",
       "       [13, 14, 15, 16]])"
      ]
     },
     "execution_count": 16,
     "metadata": {},
     "output_type": "execute_result"
    }
   ],
   "source": [
    "newList[[2, 0, 3]]"
   ]
  },
  {
   "cell_type": "markdown",
   "id": "3826cb33",
   "metadata": {},
   "source": [
    "#### Filtering"
   ]
  },
  {
   "cell_type": "code",
   "execution_count": 17,
   "id": "99ce2e7f",
   "metadata": {},
   "outputs": [
    {
     "data": {
      "text/plain": [
       "array([ 7,  1, 83,  1, 15, 44,  3, 97, 13, 11,  6, 12, 62, 91, 38, 25, 21,\n",
       "        6, 38, 31])"
      ]
     },
     "execution_count": 17,
     "metadata": {},
     "output_type": "execute_result"
    }
   ],
   "source": [
    "newList = np.random.randint(1, 100, 20)\n",
    "newList"
   ]
  },
  {
   "cell_type": "code",
   "execution_count": 18,
   "id": "03c32c51",
   "metadata": {},
   "outputs": [
    {
     "data": {
      "text/plain": [
       "array([False, False,  True, False, False,  True, False,  True, False,\n",
       "       False, False, False,  True,  True,  True,  True, False, False,\n",
       "        True,  True])"
      ]
     },
     "execution_count": 18,
     "metadata": {},
     "output_type": "execute_result"
    }
   ],
   "source": [
    "newList > 24"
   ]
  },
  {
   "cell_type": "code",
   "execution_count": 19,
   "id": "d276a722",
   "metadata": {},
   "outputs": [
    {
     "data": {
      "text/plain": [
       "array([83, 44, 97, 62, 91, 38, 25, 38, 31])"
      ]
     },
     "execution_count": 19,
     "metadata": {},
     "output_type": "execute_result"
    }
   ],
   "source": [
    "newList[newList > 24]"
   ]
  },
  {
   "cell_type": "markdown",
   "id": "44a12ef0",
   "metadata": {},
   "source": [
    "#### Array Operations"
   ]
  },
  {
   "cell_type": "code",
   "execution_count": 20,
   "id": "b5121ba2",
   "metadata": {},
   "outputs": [
    {
     "data": {
      "text/plain": [
       "[1, 2, 3, 4]"
      ]
     },
     "execution_count": 20,
     "metadata": {},
     "output_type": "execute_result"
    }
   ],
   "source": [
    "lst = [1, 2, 3, 4]\n",
    "lst"
   ]
  },
  {
   "cell_type": "code",
   "execution_count": 21,
   "id": "f3794be7",
   "metadata": {},
   "outputs": [
    {
     "data": {
      "text/plain": [
       "[1, 2, 3, 4, 1, 2, 4, 7]"
      ]
     },
     "execution_count": 21,
     "metadata": {},
     "output_type": "execute_result"
    }
   ],
   "source": [
    "lst + [1, 2, 4, 7]"
   ]
  },
  {
   "cell_type": "code",
   "execution_count": 22,
   "id": "acdec2e5",
   "metadata": {},
   "outputs": [
    {
     "data": {
      "text/plain": [
       "array([78, 22, 27, 42, 24, 97, 58, 15, 37, 65, 39, 63, 18, 80, 11, 34, 77,\n",
       "        4, 56, 76])"
      ]
     },
     "execution_count": 22,
     "metadata": {},
     "output_type": "execute_result"
    }
   ],
   "source": [
    "newList2 = np.random.randint(1, 100, 20)\n",
    "newList2"
   ]
  },
  {
   "cell_type": "code",
   "execution_count": 23,
   "id": "2a9785a6",
   "metadata": {},
   "outputs": [
    {
     "data": {
      "text/plain": [
       "array([ 85,  23, 110,  43,  39, 141,  61, 112,  50,  76,  45,  75,  80,\n",
       "       171,  49,  59,  98,  10,  94, 107])"
      ]
     },
     "execution_count": 23,
     "metadata": {},
     "output_type": "execute_result"
    }
   ],
   "source": [
    "newList + newList2"
   ]
  },
  {
   "cell_type": "code",
   "execution_count": 24,
   "id": "16d2bed1",
   "metadata": {},
   "outputs": [
    {
     "data": {
      "text/plain": [
       "array([-71, -21,  56, -41,  -9, -53, -55,  82, -24, -54, -33, -51,  44,\n",
       "        11,  27,  -9, -56,   2, -18, -45])"
      ]
     },
     "execution_count": 24,
     "metadata": {},
     "output_type": "execute_result"
    }
   ],
   "source": [
    "newList - newList2"
   ]
  },
  {
   "cell_type": "code",
   "execution_count": 25,
   "id": "d0d09997",
   "metadata": {},
   "outputs": [
    {
     "data": {
      "text/plain": [
       "array([ 546,   22, 2241,   42,  360, 4268,  174, 1455,  481,  715,  234,\n",
       "        756, 1116, 7280,  418,  850, 1617,   24, 2128, 2356])"
      ]
     },
     "execution_count": 25,
     "metadata": {},
     "output_type": "execute_result"
    }
   ],
   "source": [
    "newList * newList2"
   ]
  },
  {
   "cell_type": "code",
   "execution_count": 26,
   "id": "27a83f92",
   "metadata": {},
   "outputs": [
    {
     "data": {
      "text/plain": [
       "array([0.08974359, 0.04545455, 3.07407407, 0.02380952, 0.625     ,\n",
       "       0.45360825, 0.05172414, 6.46666667, 0.35135135, 0.16923077,\n",
       "       0.15384615, 0.19047619, 3.44444444, 1.1375    , 3.45454545,\n",
       "       0.73529412, 0.27272727, 1.5       , 0.67857143, 0.40789474])"
      ]
     },
     "execution_count": 26,
     "metadata": {},
     "output_type": "execute_result"
    }
   ],
   "source": [
    "newList / newList2\n",
    "# if one of newList2 element is 0, returns NaN and continues to other divisions."
   ]
  },
  {
   "cell_type": "code",
   "execution_count": 27,
   "id": "d79fee2e",
   "metadata": {},
   "outputs": [
    {
     "data": {
      "text/plain": [
       "array([2.64575131, 1.        , 9.11043358, 1.        , 3.87298335,\n",
       "       6.63324958, 1.73205081, 9.8488578 , 3.60555128, 3.31662479,\n",
       "       2.44948974, 3.46410162, 7.87400787, 9.53939201, 6.164414  ,\n",
       "       5.        , 4.58257569, 2.44948974, 6.164414  , 5.56776436])"
      ]
     },
     "execution_count": 27,
     "metadata": {},
     "output_type": "execute_result"
    }
   ],
   "source": [
    "np.sqrt(newList)"
   ]
  },
  {
   "cell_type": "code",
   "execution_count": 28,
   "id": "3c7f455b",
   "metadata": {},
   "outputs": [
    {
     "data": {
      "text/plain": [
       "array([  49,    1, 6889,    1,  225, 1936,    9, 9409,  169,  121,   36,\n",
       "        144, 3844, 8281, 1444,  625,  441,   36, 1444,  961], dtype=int32)"
      ]
     },
     "execution_count": 28,
     "metadata": {},
     "output_type": "execute_result"
    }
   ],
   "source": [
    "np.square(newList)"
   ]
  },
  {
   "cell_type": "code",
   "execution_count": null,
   "id": "6728de23",
   "metadata": {},
   "outputs": [],
   "source": []
  }
 ],
 "metadata": {
  "kernelspec": {
   "display_name": "Python 3 (ipykernel)",
   "language": "python",
   "name": "python3"
  },
  "language_info": {
   "codemirror_mode": {
    "name": "ipython",
    "version": 3
   },
   "file_extension": ".py",
   "mimetype": "text/x-python",
   "name": "python",
   "nbconvert_exporter": "python",
   "pygments_lexer": "ipython3",
   "version": "3.9.7"
  }
 },
 "nbformat": 4,
 "nbformat_minor": 5
}
