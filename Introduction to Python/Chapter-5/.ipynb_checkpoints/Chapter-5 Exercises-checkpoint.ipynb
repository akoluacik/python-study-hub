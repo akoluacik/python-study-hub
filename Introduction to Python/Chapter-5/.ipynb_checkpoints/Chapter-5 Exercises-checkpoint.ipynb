{
 "cells": [
  {
   "cell_type": "markdown",
   "id": "970be2b0",
   "metadata": {},
   "source": [
    "**Q1 (What’s Wrong with This Code?)** What, if anything, is wrong with each of the following code segments?\n",
    "\n",
    "a)\n",
    "```python\n",
    "    day, high_temperature = ('Monday', 87,65)\n",
    "\n",
    "```\n",
    "The tuple contains three variable while we are trying to extract them with two variables. We need either add a third variable to the left, or make list one of the variable on the left by putting an asteriks(*).\n",
    "\n",
    "```python\n",
    "    day, *high_temperature = ('Monday', 87,65) # => high_temperature is now [87,65]\n",
    "\n",
    "```\n",
    "```python\n",
    "    day, high_temperature = ('Monday', 87,65) # => day is now ['Monday', 87]\n",
    "\n",
    "```\n",
    "\n",
    "b)\n",
    "```python\n",
    "    numbers = [1,2,3,4,5]\n",
    "    numbers[10] # => out of index error\n",
    "```\n",
    "\n",
    "c) \n",
    "```python\n",
    "    name = 'amanda'\n",
    "    name[0] = 'A'\n",
    "```\n",
    "Strings are **immutable**, so you cannot change its elements. You need to use string methods, or slicing.\n",
    "```python\n",
    "    name = 'amanda'\n",
    "    name = 'A' + name[1:] # slicing\n",
    "    name.capitalize() # string method capitalize\n",
    "```\n",
    "\n",
    "d)\n",
    "```python\n",
    "    numbers = [1,2,3,4,5]\n",
    "    numbers[3.4] # array indexes are NON-NEGATIVE INTEGERs, 3.4 is not a valid index \n",
    "```\n",
    "\n",
    "e)\n",
    "```python\n",
    "    student_tuple = ('Amanda', 'Blue', [98,75,87])\n",
    "    student_tuple[0] = 'Arianna\n",
    "```\n",
    "Tuples are immutable. However, if tuple elements are mutable, then its elements can be changed. Since 0th index of the *student_tuple* is a *string*, it cannot be changed. However, elements of *student_tuple[2]* can be changed since it is a list.\n",
    "\n",
    "f)\n",
    "```python\n",
    "    ('Monday',87,65)+'Tuesday'\n",
    "```\n",
    "TypeError. Either one of them would be a string or a tuple.\n",
    "\n",
    "g) Nearly the same reason.\n",
    "\n",
    "h)\n",
    "```python\n",
    "x = 7\n",
    "del x\n",
    "print(x)\n",
    "```\n",
    "Attempt to access an element already deleted.\n",
    "\n",
    "i)\n",
    "```python\n",
    "numbers=[1,2,3,4,5]\n",
    "numbers.index(10)\n",
    "```\n",
    "\n",
    "10 isn't present in *numbers* list. We can prevent getting error with *in* and *if-else* statements.\n",
    "```python\n",
    "numbers=[1,2,3,4,5]\n",
    "if 10 in numbers:\n",
    "    print(numbers.index(10))\n",
    "else:\n",
    "    print('10 isn\\'t present')\n",
    "```\n",
    "\n",
    "j)\n",
    "```python\n",
    "numbers=[1,2,3,4,5]\n",
    "numbers.extend(6,7,8)\n",
    "```\n",
    "method *extend* takes an iterable value.\n",
    "\n",
    "k)\n",
    "```python\n",
    "numbers=[1,2,3,4,5]\n",
    "numbers.remove(10)\n",
    "```\n",
    "\n",
    "10 isn't present in the list. We use the same way as we did for *index* method.\n",
    "\n",
    "l)\n",
    "```python\n",
    "values=[]\n",
    "values.pop()\n",
    "```\n",
    "\n",
    "Nothing to be popped. Empty list."
   ]
  },
  {
   "cell_type": "markdown",
   "id": "dabdb7cb",
   "metadata": {},
   "source": [
    " \n",
    " "
   ]
  },
  {
   "cell_type": "markdown",
   "id": "1dfdca9d",
   "metadata": {},
   "source": [
    "**Q2 (What’s Does This Code Do?)** What does the following function do, based on the sequence it receives as an argument?\n",
    "\n",
    "```python\n",
    "def mystery(sequence):\n",
    "    return sequence == sorted(sequence)\n",
    "```\n",
    "\n",
    "this code checks if the list is in ascending order. If so, it returns true. Otherwise, false."
   ]
  },
  {
   "cell_type": "markdown",
   "id": "3954f9fe",
   "metadata": {},
   "source": [
    " "
   ]
  },
  {
   "cell_type": "markdown",
   "id": "f87a7c18",
   "metadata": {},
   "source": [
    "**Q3 (Fill in the Missing Code)** Replace the \\*\\**s in the following list comprehension and map function call, such that given a list of heights in inches, the code maps the list to a list of tuples containing the original height values and their corresponding values in meters.\n",
    "\n",
    "```python\n",
    "[*** for x in [69, 77, 54]]\n",
    "list(map(lambda ***, [69, 77, 54]))\n",
    "```"
   ]
  },
  {
   "cell_type": "code",
   "execution_count": 14,
   "id": "2c363def",
   "metadata": {},
   "outputs": [
    {
     "name": "stdout",
     "output_type": "stream",
     "text": [
      "[1.7526, 1.9558, 1.3716]\n",
      "[1.7526, 1.9558, 1.3716]\n"
     ]
    }
   ],
   "source": [
    "print([x*0.0254 for x in [69, 77, 54]])\n",
    "print(list(map(lambda x : x * 0.0254, [69,77,54])))"
   ]
  },
  {
   "cell_type": "markdown",
   "id": "3431f430",
   "metadata": {},
   "source": [
    " \n",
    " "
   ]
  },
  {
   "cell_type": "markdown",
   "id": "ae0945a3",
   "metadata": {},
   "source": [
    "**Q5 (IPython Session: Slicing)** Create a string called alphabet containing 'abcdefghijklmnopqrstuvwxyz', then perform the following separate slice operations to obtain:\n",
    "    a) The first half of the string using starting and ending indices.\n",
    "```python\n",
    "    alphabet = 'abcdefghijklmnopqrstuvwxyz'\n",
    "    alphabet[0:len(alphabet)/2]\n",
    "```\n",
    "    b) The first half of the string using only the ending index.\n",
    "```python\n",
    "    alphabet = 'abcdefghijklmnopqrstuvwxyz'\n",
    "    alphabet[:len(alphabet)/2]\n",
    "```\n",
    "    c) The second half of the string using starting and ending indices.\n",
    "```python\n",
    "    alphabet = 'abcdefghijklmnopqrstuvwxyz'\n",
    "    alphabet[:len(alphabet)/2]\n",
    "```\n",
    "    d) The second half of the string using onyly starting index.\n",
    "```python\n",
    "    alphabet = 'abcdefghijklmnopqrstuvwxyz'\n",
    "    alphabet[len(alphabet)/2:]\n",
    "```\n",
    "    e) Every second letter in the string starting with 'a'.\n",
    "```python\n",
    "    alphabet = 'abcdefghijklmnopqrstuvwxyz'\n",
    "    alphabet[0::2]\n",
    "```\n",
    "    f) The entire string in reverse.\n",
    "```python\n",
    "    alphabet = 'abcdefghijklmnopqrstuvwxyz'\n",
    "    alphabet[::-1]\n",
    "```\n",
    "    e) Every third letter in the string starting with 'z'.\n",
    "```python\n",
    "    alphabet = 'abcdefghijklmnopqrstuvwxyz'\n",
    "    print(alphabet[-1::-3])\n",
    "```"
   ]
  },
  {
   "cell_type": "markdown",
   "id": "a67a7400",
   "metadata": {},
   "source": [
    "**Q7 (Duplicate Elimination)** Create a function that receives a list and returns a (possibly shorter) list containing only the unique values in sorted order. Test your function with a list of numbers and a list of strings."
   ]
  },
  {
   "cell_type": "code",
   "execution_count": 10,
   "id": "efc2aa9a",
   "metadata": {},
   "outputs": [
    {
     "data": {
      "text/plain": [
       "[2, 3, 4, 5, 6, 8]"
      ]
     },
     "execution_count": 10,
     "metadata": {},
     "output_type": "execute_result"
    }
   ],
   "source": [
    "def duplicate(lst):\n",
    "    res = []\n",
    "    for element in lst:\n",
    "        if element not in res:\n",
    "            res.append(element)\n",
    "        \n",
    "    return sorted(res)\n",
    "    \n",
    "a = [2,5,8,4,5,6,8,2,3,4,2,3]\n",
    "res = duplicate(a)\n",
    "res"
   ]
  },
  {
   "cell_type": "markdown",
   "id": "b22d9fe2",
   "metadata": {},
   "source": [
    " \n",
    " "
   ]
  },
  {
   "cell_type": "markdown",
   "id": "826ed845",
   "metadata": {},
   "source": [
    "**Q9 (Palindrome Tester)** A string that’s spelled identically backward and forward, like 'radar', is a palindrome. Write a function is_palindrome that takes a string and returns True if it’s a palindrome and False otherwise. Use a stack (simulated with a list as we did in Section 5.11) to help determine whether a string is a palindrome. Your function should ignore case sensitivity (that is, 'a' and 'A' are the same), spaces and punctuation. "
   ]
  },
  {
   "cell_type": "code",
   "execution_count": 24,
   "id": "42a7a118",
   "metadata": {},
   "outputs": [
    {
     "data": {
      "text/plain": [
       "True"
      ]
     },
     "execution_count": 24,
     "metadata": {},
     "output_type": "execute_result"
    }
   ],
   "source": [
    "def is_palindrome(string:str): # very easy way\n",
    "    return string == string[::-1] \n",
    "\n",
    "def is_palindrome_with_stack(string:str):\n",
    "    str_lowered = string.lower()\n",
    "    \n",
    "    stack=list(str_lowered[::-1]) # hold reverse of the string as a list\n",
    "    str_list = list(str_lowered) # hold the string as a list\n",
    "    \n",
    "    while len(stack):\n",
    "        x = stack.pop()    # pop the elements\n",
    "        y = str_list.pop() # pop the elements\n",
    "        if x != y:         # if elements are not the same return false\n",
    "            return False\n",
    "    return True\n",
    "is_palindrome_with_stack(\"Efe\")"
   ]
  }
 ],
 "metadata": {
  "kernelspec": {
   "display_name": "Python 3 (ipykernel)",
   "language": "python",
   "name": "python3"
  },
  "language_info": {
   "codemirror_mode": {
    "name": "ipython",
    "version": 3
   },
   "file_extension": ".py",
   "mimetype": "text/x-python",
   "name": "python",
   "nbconvert_exporter": "python",
   "pygments_lexer": "ipython3",
   "version": "3.9.12"
  }
 },
 "nbformat": 4,
 "nbformat_minor": 5
}
