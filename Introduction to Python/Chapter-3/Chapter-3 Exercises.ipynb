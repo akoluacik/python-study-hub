{
 "cells": [
  {
   "cell_type": "markdown",
   "id": "2ee8d185",
   "metadata": {},
   "source": [
    "**Q4:(Validating User Input)** (Fill in the Missing Code) In the code below \n",
    "```python\n",
    "for ***\n",
    "    for ***\n",
    "        print('@')\n",
    "    print()\n",
    "```\n",
    "replace the *** so that when you execute the code, it displays two rows, each containing\n",
    "seven @ symbols, as in:\n",
    "```\n",
    "@@@@@@@\n",
    "@@@@@@@\n",
    "```"
   ]
  },
  {
   "cell_type": "code",
   "execution_count": 5,
   "id": "5a03c7ae",
   "metadata": {},
   "outputs": [
    {
     "name": "stdout",
     "output_type": "stream",
     "text": [
      "@@@@@@@\n",
      "@@@@@@@\n"
     ]
    }
   ],
   "source": [
    "for i in range(2): # specify number of rows\n",
    "    for j in range(7): # specify number of columns\n",
    "        print('@', end='') # provide end \n",
    "    print() # newline character"
   ]
  },
  {
   "cell_type": "markdown",
   "id": "69fe4a8d",
   "metadata": {},
   "source": [
    " \n"
   ]
  },
  {
   "cell_type": "markdown",
   "id": "156e2e01",
   "metadata": {},
   "source": [
    "**Q5(if…else Statements)** Reimplement the script of Fig. 2.1 using three if…else\n",
    "statements rather than six if statements."
   ]
  },
  {
   "cell_type": "code",
   "execution_count": 6,
   "id": "ebc76293",
   "metadata": {},
   "outputs": [
    {
     "name": "stdout",
     "output_type": "stream",
     "text": [
      "Enter two integers, and I will tell you the relationships they satisfy.\n",
      "Enter first integer: 5\n",
      "Enter first integer: 17\n",
      "5 is not equal to 17\n",
      "5 is less than 17\n",
      "5 is less than or equal to 17\n"
     ]
    }
   ],
   "source": [
    "print('Enter two integers, and I will tell you','the relationships they satisfy.')\n",
    "\n",
    "#read the first integer\n",
    "number1 = int(input('Enter first integer: '))\n",
    "\n",
    "#read the second integer\n",
    "number2 = int(input('Enter first integer: '))\n",
    "\n",
    "if number1 == number2:\n",
    "    print(number1, 'is equal to', number2)\n",
    "else:\n",
    "    print(number1, 'is not equal to', number2)\n",
    "\n",
    "if number1 < number2:\n",
    "    print(number1, 'is less than', number2)\n",
    "else: # if number1 = number2, this else statement also will work\n",
    "    print(number1, 'is greater than or equal to', number2)\n",
    "\n",
    "if number1 <= number2:\n",
    "    print(number1, 'is less than or equal to', number2)\n",
    "else: # if number1 = number2, this else statement also will work\n",
    "    print(number1, 'is greater than or equal to', number2)\n"
   ]
  },
  {
   "cell_type": "markdown",
   "id": "ef7c6657",
   "metadata": {},
   "source": [
    " "
   ]
  },
  {
   "cell_type": "markdown",
   "id": "5723c0e2",
   "metadata": {},
   "source": [
    "**Q6(Turing Test):** Create a script that plays the part of the independent computer, giving its user a simple medical diagnosis. The script should prompt the user with 'What is your problem?'\n",
    "When the user answers and presses Enter, the script should simply ignore the user’s input, then prompt the user again with 'Have you had this problem before (yes or no)?' If the user enters 'yes', print 'Well, you have it again.' If the user answers 'no', print 'Well, you have it now.'"
   ]
  },
  {
   "cell_type": "code",
   "execution_count": 8,
   "id": "681bf294",
   "metadata": {},
   "outputs": [
    {
     "name": "stdout",
     "output_type": "stream",
     "text": [
      "What is your problemheadache\n",
      "Have you had this problem before (yes or no)no\n",
      "Well,you have it now\n"
     ]
    }
   ],
   "source": [
    "inp = input('What is your problem')\n",
    "ans = input('Have you had this problem before (yes or no)')\n",
    "\n",
    "print('Well,you have it', end=' ')\n",
    "if ans.lower() == 'yes':\n",
    "    print('again')\n",
    "else: # assume user gives yes or no\n",
    "    print('now')\n",
    "\n",
    "    "
   ]
  },
  {
   "cell_type": "markdown",
   "id": "13b386f7",
   "metadata": {},
   "source": [
    " "
   ]
  },
  {
   "cell_type": "markdown",
   "id": "7d5d1350",
   "metadata": {},
   "source": [
    "**Q8(Table of Squares and Cubes)** In Exercise 2.8, you wrote a script to calculate the squares and cubes of the numbers from 0 through 5, then printed the resulting values in table format. Reimplement your script using a for loop and the f-string capabilities you learned in this chapter to produce the following table with the numbers right aligned in each column."
   ]
  },
  {
   "cell_type": "code",
   "execution_count": 19,
   "id": "345cae2d",
   "metadata": {},
   "outputs": [
    {
     "name": "stdout",
     "output_type": "stream",
     "text": [
      "number   square   cube\n",
      "0             0      0\n",
      "1             1      1\n",
      "2             4      8\n",
      "3             9     27\n",
      "4            16     64\n",
      "5            25    125\n"
     ]
    }
   ],
   "source": [
    "print('number   square   cube')\n",
    "for i in range(6):\n",
    "    print(f'{i}{(i*i):>14}{(i**3):>7}')"
   ]
  },
  {
   "cell_type": "markdown",
   "id": "ebe31827",
   "metadata": {},
   "source": [
    " "
   ]
  },
  {
   "cell_type": "markdown",
   "id": "13778d7d",
   "metadata": {},
   "source": [
    "**Q8(Arithmetic, Smallest and Largest)** In Exercise 2.10, you wrote a script that input three integers, then displayed the sum, average, product, smallest and largest of those values. Reimplement your script with a loop that inputs four integers."
   ]
  },
  {
   "cell_type": "code",
   "execution_count": 22,
   "id": "13f00331",
   "metadata": {},
   "outputs": [
    {
     "name": "stdout",
     "output_type": "stream",
     "text": [
      "Give a number: 1\n",
      "Give a number: 2\n",
      "Give a number: 3\n",
      "Give a number: 4\n",
      "Sum:10 product:24 max:4 min:1 average:2.5\n"
     ]
    }
   ],
   "source": [
    "sum = 0\n",
    "min = 2^32-1\n",
    "max = -2^32\n",
    "product = 1\n",
    "for _ in range(4): # iterates 4 times\n",
    "    n = int(input('Give a number: '))\n",
    "    sum += n # add to sum\n",
    "    product *= n # update the product\n",
    "    \n",
    "    if(min > n):\n",
    "        min = n\n",
    "    if(max < n):\n",
    "        max = n\n",
    "print(f'Sum:{sum} product:{product} max:{max} min:{min} average:{sum/4}')"
   ]
  },
  {
   "cell_type": "markdown",
   "id": "d575d5a5",
   "metadata": {},
   "source": [
    " "
   ]
  },
  {
   "cell_type": "markdown",
   "id": "ff345d5c",
   "metadata": {},
   "source": [
    "**Q9(Separating the Digits in an Integer)** In Exercise 2.11, you wrote a script that separated a five-digit integer into its individual digits and displayed them. Reimplement your script to use a loop that in each iteration “picks off” one digit (left to right) using the // and % operators, then displays that digit."
   ]
  },
  {
   "cell_type": "code",
   "execution_count": 24,
   "id": "9c94bd2b",
   "metadata": {},
   "outputs": [
    {
     "name": "stdout",
     "output_type": "stream",
     "text": [
      "Give a number: 12345\n",
      "5 4 3 2 1 "
     ]
    }
   ],
   "source": [
    "n = int(input('Give a number: '))\n",
    "while n > 0:\n",
    "    print(n % 10, end=' ')\n",
    "    n //= 10"
   ]
  },
  {
   "cell_type": "markdown",
   "id": "56afbb6c",
   "metadata": {},
   "source": [
    " "
   ]
  },
  {
   "cell_type": "markdown",
   "id": "e053cfd9",
   "metadata": {},
   "source": [
    "**Q12(Palindromes):** A palindrome is a number, word or text phrase that reads the same backwards or forwards. For example, each of the following five-digit integers is a palindrome: 12321, 55555, 45554 and 11611. Write a script that reads in a five-digit integer\n",
    "and determines whether it’s a palindrome."
   ]
  },
  {
   "cell_type": "code",
   "execution_count": 26,
   "id": "c1f9b519",
   "metadata": {},
   "outputs": [
    {
     "name": "stdout",
     "output_type": "stream",
     "text": [
      "Give a number: 12345\n",
      "number 12345 is not a palindrome number\n"
     ]
    }
   ],
   "source": [
    "n = int(input('Give a number: '))\n",
    "n5 = n % 10 # ones-digit\n",
    "n4 = (n // 10) % 10 # tens-digit\n",
    "n3 = (n // 100) % 10 # hunderds digit\n",
    "n2 = (n // 1000) % 10 # thousands digit\n",
    "n1 = (n // 10000) % 10 # ten-thousands digit\n",
    "\n",
    "print(f'number {n} is', end = ' ')\n",
    "if n5 == n1 and n2 == n4:\n",
    "    print('a', end = ' ')\n",
    "else:\n",
    "    print('not a', end = ' ')\n",
    "print('palindrome number')"
   ]
  },
  {
   "cell_type": "markdown",
   "id": "b28bffa4",
   "metadata": {},
   "source": [
    " "
   ]
  },
  {
   "cell_type": "markdown",
   "id": "76fe6504",
   "metadata": {},
   "source": [
    "**Q14 (Challenge: Approximating the Mathematical Constant):** Write a script that computes the value of π from the following infinite series. Print a table that shows the value of π approximated by one term of this series, by two terms, by three terms, and so on. How many terms of this series do you have to use before you first get 3.14? 3.141? 3.1415? 3.14159?"
   ]
  },
  {
   "cell_type": "markdown",
   "id": "84a80f05",
   "metadata": {},
   "source": [
    "$\\pi=4-\\frac{4}{3}+\\frac{4}{5}-\\frac{4}{7}+\\frac{4}{9}-\\frac{4}{11}+...$"
   ]
  },
  {
   "cell_type": "code",
   "execution_count": 47,
   "id": "006f7b05",
   "metadata": {},
   "outputs": [
    {
     "name": "stdout",
     "output_type": "stream",
     "text": [
      "Give number of terms you wanna use: 36\n",
      "pi is 3.1686147495715193\n"
     ]
    }
   ],
   "source": [
    "pi = 4\n",
    "sign = -1\n",
    "term = int(input('Give number of terms you wanna use: '))\n",
    "denum = 3\n",
    "for _ in range(term):\n",
    "    pi += sign * 4 / denum\n",
    "    sign *= -1\n",
    "    denum += 2\n",
    "print(f'pi is {pi}')"
   ]
  },
  {
   "cell_type": "markdown",
   "id": "0158ada9",
   "metadata": {},
   "source": [
    " "
   ]
  },
  {
   "cell_type": "markdown",
   "id": "fe1ed874",
   "metadata": {},
   "source": [
    "**Q15(Challenge: Approximating the Mathematical Constant e):** Write a script that estimates the value of the mathematical constant e by using the formula below. Your script can stop after summing 10 terms."
   ]
  },
  {
   "cell_type": "markdown",
   "id": "c5f5fa1f",
   "metadata": {},
   "source": [
    "$e = 1 + \\frac{1}{1!} + \\frac{1}{2!} + \\frac{1}{3!}+...$"
   ]
  },
  {
   "cell_type": "code",
   "execution_count": 55,
   "id": "a835a495",
   "metadata": {},
   "outputs": [
    {
     "name": "stdout",
     "output_type": "stream",
     "text": [
      "e:2.7182815255731922\n"
     ]
    }
   ],
   "source": [
    "e = 1\n",
    "n = 10\n",
    "fact = 1\n",
    "for i in range(1,n):\n",
    "    fact = 1\n",
    "    for j in range(i, 1, -1): # calculates factorial\n",
    "        fact *= j\n",
    "    e += 1 / fact\n",
    "print(f'e:{e}')"
   ]
  },
  {
   "cell_type": "markdown",
   "id": "854e9b88",
   "metadata": {},
   "source": [
    " "
   ]
  },
  {
   "cell_type": "markdown",
   "id": "b714bd30",
   "metadata": {},
   "source": [
    "**Q19: (Brute-Force Computing: Pythagorean Triples)** A right triangle can have sides that are all integers. The set of three integer values for the sides of a right triangle is called a Pythagorean triple. These three sides must satisfy the relationship that the sum of the squares of two of the sides is equal to the square of the hypotenuse. Find all Pythagorean triples for side1, side2 and hypotenuse (such as 3, 4 and 5) all no larger than 20. Use a triple-nested for-loop that tries all possibilities. This is an example of “brute-force” computing. You’ll learn in more advanced computer science courses that there are many interesting problems for which there is no known algorithmic approach other than sheer brute force."
   ]
  },
  {
   "cell_type": "code",
   "execution_count": 65,
   "id": "0d3a791f",
   "metadata": {},
   "outputs": [
    {
     "name": "stdout",
     "output_type": "stream",
     "text": [
      "side1  side2  hypotenus\n",
      "1          1       1.41\n",
      "1          2       2.24\n",
      "1          3       3.16\n",
      "1          4       4.12\n",
      "1          5       5.10\n",
      "1          6       6.08\n",
      "1          7       7.07\n",
      "1          8       8.06\n",
      "1          9       9.06\n",
      "1         10      10.05\n",
      "1         11      11.05\n",
      "1         12      12.04\n",
      "1         13      13.04\n",
      "1         14      14.04\n",
      "1         15      15.03\n",
      "1         16      16.03\n",
      "1         17      17.03\n",
      "1         18      18.03\n",
      "1         19      19.03\n",
      "2          1       2.24\n",
      "2          2       2.83\n",
      "2          3       3.61\n",
      "2          4       4.47\n",
      "2          5       5.39\n",
      "2          6       6.32\n",
      "2          7       7.28\n",
      "2          8       8.25\n",
      "2          9       9.22\n",
      "2         10      10.20\n",
      "2         11      11.18\n",
      "2         12      12.17\n",
      "2         13      13.15\n",
      "2         14      14.14\n",
      "2         15      15.13\n",
      "2         16      16.12\n",
      "2         17      17.12\n",
      "2         18      18.11\n",
      "2         19      19.10\n",
      "3          1       3.16\n",
      "3          2       3.61\n",
      "3          3       4.24\n",
      "3          4       5.00\n",
      "3          5       5.83\n",
      "3          6       6.71\n",
      "3          7       7.62\n",
      "3          8       8.54\n",
      "3          9       9.49\n",
      "3         10      10.44\n",
      "3         11      11.40\n",
      "3         12      12.37\n",
      "3         13      13.34\n",
      "3         14      14.32\n",
      "3         15      15.30\n",
      "3         16      16.28\n",
      "3         17      17.26\n",
      "3         18      18.25\n",
      "3         19      19.24\n",
      "4          1       4.12\n",
      "4          2       4.47\n",
      "4          3       5.00\n",
      "4          4       5.66\n",
      "4          5       6.40\n",
      "4          6       7.21\n",
      "4          7       8.06\n",
      "4          8       8.94\n",
      "4          9       9.85\n",
      "4         10      10.77\n",
      "4         11      11.70\n",
      "4         12      12.65\n",
      "4         13      13.60\n",
      "4         14      14.56\n",
      "4         15      15.52\n",
      "4         16      16.49\n",
      "4         17      17.46\n",
      "4         18      18.44\n",
      "4         19      19.42\n",
      "5          1       5.10\n",
      "5          2       5.39\n",
      "5          3       5.83\n",
      "5          4       6.40\n",
      "5          5       7.07\n",
      "5          6       7.81\n",
      "5          7       8.60\n",
      "5          8       9.43\n",
      "5          9      10.30\n",
      "5         10      11.18\n",
      "5         11      12.08\n",
      "5         12      13.00\n",
      "5         13      13.93\n",
      "5         14      14.87\n",
      "5         15      15.81\n",
      "5         16      16.76\n",
      "5         17      17.72\n",
      "5         18      18.68\n",
      "5         19      19.65\n",
      "6          1       6.08\n",
      "6          2       6.32\n",
      "6          3       6.71\n",
      "6          4       7.21\n",
      "6          5       7.81\n",
      "6          6       8.49\n",
      "6          7       9.22\n",
      "6          8      10.00\n",
      "6          9      10.82\n",
      "6         10      11.66\n",
      "6         11      12.53\n",
      "6         12      13.42\n",
      "6         13      14.32\n",
      "6         14      15.23\n",
      "6         15      16.16\n",
      "6         16      17.09\n",
      "6         17      18.03\n",
      "6         18      18.97\n",
      "6         19      19.92\n",
      "7          1       7.07\n",
      "7          2       7.28\n",
      "7          3       7.62\n",
      "7          4       8.06\n",
      "7          5       8.60\n",
      "7          6       9.22\n",
      "7          7       9.90\n",
      "7          8      10.63\n",
      "7          9      11.40\n",
      "7         10      12.21\n",
      "7         11      13.04\n",
      "7         12      13.89\n",
      "7         13      14.76\n",
      "7         14      15.65\n",
      "7         15      16.55\n",
      "7         16      17.46\n",
      "7         17      18.38\n",
      "7         18      19.31\n",
      "8          1       8.06\n",
      "8          2       8.25\n",
      "8          3       8.54\n",
      "8          4       8.94\n",
      "8          5       9.43\n",
      "8          6      10.00\n",
      "8          7      10.63\n",
      "8          8      11.31\n",
      "8          9      12.04\n",
      "8         10      12.81\n",
      "8         11      13.60\n",
      "8         12      14.42\n",
      "8         13      15.26\n",
      "8         14      16.12\n",
      "8         15      17.00\n",
      "8         16      17.89\n",
      "8         17      18.79\n",
      "8         18      19.70\n",
      "9          1       9.06\n",
      "9          2       9.22\n",
      "9          3       9.49\n",
      "9          4       9.85\n",
      "9          5      10.30\n",
      "9          6      10.82\n",
      "9          7      11.40\n",
      "9          8      12.04\n",
      "9          9      12.73\n",
      "9         10      13.45\n",
      "9         11      14.21\n",
      "9         12      15.00\n",
      "9         13      15.81\n",
      "9         14      16.64\n",
      "9         15      17.49\n",
      "9         16      18.36\n",
      "9         17      19.24\n",
      "10          1      10.05\n",
      "10          2      10.20\n",
      "10          3      10.44\n",
      "10          4      10.77\n",
      "10          5      11.18\n",
      "10          6      11.66\n",
      "10          7      12.21\n",
      "10          8      12.81\n",
      "10          9      13.45\n",
      "10         10      14.14\n",
      "10         11      14.87\n",
      "10         12      15.62\n",
      "10         13      16.40\n",
      "10         14      17.20\n",
      "10         15      18.03\n",
      "10         16      18.87\n",
      "10         17      19.72\n",
      "11          1      11.05\n",
      "11          2      11.18\n",
      "11          3      11.40\n",
      "11          4      11.70\n",
      "11          5      12.08\n",
      "11          6      12.53\n",
      "11          7      13.04\n",
      "11          8      13.60\n",
      "11          9      14.21\n",
      "11         10      14.87\n",
      "11         11      15.56\n",
      "11         12      16.28\n",
      "11         13      17.03\n",
      "11         14      17.80\n",
      "11         15      18.60\n",
      "11         16      19.42\n",
      "12          1      12.04\n",
      "12          2      12.17\n",
      "12          3      12.37\n",
      "12          4      12.65\n",
      "12          5      13.00\n",
      "12          6      13.42\n",
      "12          7      13.89\n",
      "12          8      14.42\n",
      "12          9      15.00\n",
      "12         10      15.62\n",
      "12         11      16.28\n",
      "12         12      16.97\n",
      "12         13      17.69\n",
      "12         14      18.44\n",
      "12         15      19.21\n",
      "13          1      13.04\n",
      "13          2      13.15\n",
      "13          3      13.34\n",
      "13          4      13.60\n",
      "13          5      13.93\n",
      "13          6      14.32\n",
      "13          7      14.76\n",
      "13          8      15.26\n",
      "13          9      15.81\n",
      "13         10      16.40\n",
      "13         11      17.03\n",
      "13         12      17.69\n",
      "13         13      18.38\n",
      "13         14      19.10\n",
      "13         15      19.85\n",
      "14          1      14.04\n",
      "14          2      14.14\n",
      "14          3      14.32\n",
      "14          4      14.56\n",
      "14          5      14.87\n",
      "14          6      15.23\n",
      "14          7      15.65\n",
      "14          8      16.12\n",
      "14          9      16.64\n",
      "14         10      17.20\n",
      "14         11      17.80\n",
      "14         12      18.44\n",
      "14         13      19.10\n",
      "14         14      19.80\n",
      "15          1      15.03\n",
      "15          2      15.13\n",
      "15          3      15.30\n",
      "15          4      15.52\n",
      "15          5      15.81\n",
      "15          6      16.16\n",
      "15          7      16.55\n",
      "15          8      17.00\n",
      "15          9      17.49\n",
      "15         10      18.03\n",
      "15         11      18.60\n",
      "15         12      19.21\n",
      "15         13      19.85\n",
      "16          1      16.03\n",
      "16          2      16.12\n",
      "16          3      16.28\n",
      "16          4      16.49\n",
      "16          5      16.76\n",
      "16          6      17.09\n",
      "16          7      17.46\n",
      "16          8      17.89\n",
      "16          9      18.36\n",
      "16         10      18.87\n",
      "16         11      19.42\n",
      "17          1      17.03\n",
      "17          2      17.12\n",
      "17          3      17.26\n",
      "17          4      17.46\n",
      "17          5      17.72\n",
      "17          6      18.03\n",
      "17          7      18.38\n",
      "17          8      18.79\n",
      "17          9      19.24\n",
      "17         10      19.72\n",
      "18          1      18.03\n",
      "18          2      18.11\n",
      "18          3      18.25\n",
      "18          4      18.44\n",
      "18          5      18.68\n",
      "18          6      18.97\n",
      "18          7      19.31\n",
      "18          8      19.70\n",
      "19          1      19.03\n",
      "19          2      19.10\n",
      "19          3      19.24\n",
      "19          4      19.42\n",
      "19          5      19.65\n",
      "19          6      19.92\n"
     ]
    }
   ],
   "source": [
    "print('side1  side2  hypotenus')\n",
    "for side1 in range(1,20):\n",
    "    for side2 in range(1, 20):\n",
    "        hypo = (side1**2 + side2**2)**0.5\n",
    "        if(hypo < 20):\n",
    "            print(f'{side1}{side2:>11}{hypo:>11.2f}')"
   ]
  },
  {
   "cell_type": "markdown",
   "id": "ae977851",
   "metadata": {},
   "source": [
    " \n"
   ]
  },
  {
   "cell_type": "markdown",
   "id": "9f3b3fb9",
   "metadata": {},
   "source": [
    "**Q21(Calculate Change Using Fewest Number of Coins):** Write a script that inputs a purchase price of a dollar or less for an item. Assume the purchaser pays with a dollar bill. Determine the amount of change the cashier should give back to the purchaser. Display the change using the fewest number of pennies, nickels, dimes and quarters. For example, if the purchaser is due 73 cents in change, the script would output:\n",
    "```\n",
    "Your change is: \n",
    "2 quarters\n",
    "2 dimes\n",
    "3 pennies\n",
    "```"
   ]
  },
  {
   "cell_type": "code",
   "execution_count": 89,
   "id": "ea9abdba",
   "metadata": {},
   "outputs": [
    {
     "name": "stdout",
     "output_type": "stream",
     "text": [
      "Give amount of change:73\n",
      "in the first while\n",
      "in the first while\n",
      "total change:50\n",
      "in the second while\n",
      "in the second while\n",
      "in the fourth while\n",
      "in the fourth while\n",
      "in the fourth while\n",
      "Your change is:\n",
      "2 quarter\n",
      "2 dime\n",
      "0 nickle\n",
      "3 penny\n"
     ]
    }
   ],
   "source": [
    "quarters = 0 # $0.25\n",
    "dimes = 0 # $0.1 \n",
    "nickels = 0 # $0.05 \n",
    "pennies = 0 #$ 0.01\n",
    "total_change = 0\n",
    "bill = float(input('Give amount of change:'))\n",
    "\n",
    "while(total_change + 25 <= bill):\n",
    "    quarters += 1\n",
    "    total_change += 25\n",
    "    print('in the first while')\n",
    "\n",
    "print(f'total change:{total_change}')\n",
    "    \n",
    "while(total_change + 10 <= bill):\n",
    "    dimes += 1\n",
    "    total_change += 10\n",
    "    print('in the second while')\n",
    "\n",
    "while(total_change + 5 <= bill):\n",
    "    nickels += 1\n",
    "    total_change += 5\n",
    "    print('in the third while')\n",
    "\n",
    "while(total_change + 1 <= bill):\n",
    "    pennies += 1\n",
    "    total_change += 1\n",
    "    print('in the fourth while')\n",
    "\n",
    "print('Your change is:')\n",
    "print(f'{quarters} quarter\\n{dimes} dime\\n{nickels} nickle\\n{pennies} penny')"
   ]
  },
  {
   "cell_type": "markdown",
   "id": "c9b1687f",
   "metadata": {},
   "source": [
    "\n"
   ]
  },
  {
   "cell_type": "markdown",
   "id": "41df2269",
   "metadata": {},
   "source": [
    "**Q28(Intro to Data Science: Mean, Median and Mode):** Calculate the mean, median and mode of the values 9, 11, 22, 34, 17, 22, 34, 22 and 40. Suppose the values included another 34. What problem might occur?"
   ]
  },
  {
   "cell_type": "code",
   "execution_count": 3,
   "id": "f2fd1412",
   "metadata": {},
   "outputs": [
    {
     "name": "stdout",
     "output_type": "stream",
     "text": [
      "mean:22.142857142857142, median:22 mode:22\n"
     ]
    }
   ],
   "source": [
    "import statistics # mean, median and mode functions\n",
    "lst = [9,11,22,34,17,22,40]\n",
    "print(f'mean:{statistics.mean(lst)}, median:{statistics.median(lst)} mode:{statistics.mode(lst)}')"
   ]
  },
  {
   "cell_type": "code",
   "execution_count": 5,
   "id": "680ad46b",
   "metadata": {},
   "outputs": [
    {
     "name": "stdout",
     "output_type": "stream",
     "text": [
      "mean:23.625, median:22.0 mode:22\n"
     ]
    }
   ],
   "source": [
    "lst = [9,11,22,34,17,22,40,34] # 34 is added\n",
    "print(f'mean:{statistics.mean(lst)}, median:{statistics.median(lst)} mode:{statistics.mode(lst)}')"
   ]
  },
  {
   "cell_type": "markdown",
   "id": "e2910a4f",
   "metadata": {},
   "source": [
    " "
   ]
  },
  {
   "cell_type": "markdown",
   "id": "7f4e8273",
   "metadata": {},
   "source": [
    "**Q30(Intro to Data Science: Outliers)** In statistics, outliers are values out of the ordinary and possibly way out of the ordinary. Sometimes, outliers are simply bad data. In the data science case studies, we’ll see that outliers can distort results. Which of the three measures of central tendency we discussed—mean, median and mode—is most affected by outliers? Why? Which of these measures are not affected or least affected? Why?"
   ]
  },
  {
   "cell_type": "markdown",
   "id": "6419f1b5",
   "metadata": {},
   "source": [
    "Mode means the value appears most often. So outliers doesn't affect mode value, but it can affect mean and median badly and may give misleading information."
   ]
  },
  {
   "cell_type": "markdown",
   "id": "7420701b",
   "metadata": {},
   "source": [
    " "
   ]
  },
  {
   "cell_type": "markdown",
   "id": "9b7aa152",
   "metadata": {},
   "source": [
    "**Q31(Intro to Data Science: Categorical Data):** Mean, median and mode work well with numerical values. You can use them in calculations and arrange them in meaningful order. Categorical values are descriptive names like Boxer, Poodle, Collie, Beagle, Bulldog and Chihuahua. Normally, you don’t use these in calculations nor associate an order with them. Which if any of the descriptive statistics are appropriate for categorical data."
   ]
  },
  {
   "cell_type": "markdown",
   "id": "dddb9897",
   "metadata": {},
   "source": [
    "We can divide these dogs into two parts, *aggressive* and *non-agressive*. Thus, **poddle**, **Chihuahua**, **Collie** are *aggressive*, let's denote as **0**, and the others are *agressive*, call as **1**."
   ]
  },
  {
   "cell_type": "code",
   "execution_count": null,
   "id": "f7b689b0",
   "metadata": {},
   "outputs": [],
   "source": []
  }
 ],
 "metadata": {
  "kernelspec": {
   "display_name": "Python 3 (ipykernel)",
   "language": "python",
   "name": "python3"
  },
  "language_info": {
   "codemirror_mode": {
    "name": "ipython",
    "version": 3
   },
   "file_extension": ".py",
   "mimetype": "text/x-python",
   "name": "python",
   "nbconvert_exporter": "python",
   "pygments_lexer": "ipython3",
   "version": "3.9.12"
  }
 },
 "nbformat": 4,
 "nbformat_minor": 5
}
