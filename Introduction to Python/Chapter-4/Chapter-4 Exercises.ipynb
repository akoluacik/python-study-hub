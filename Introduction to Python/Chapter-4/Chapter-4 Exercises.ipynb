{
 "cells": [
  {
   "cell_type": "markdown",
   "id": "12f3ad38",
   "metadata": {},
   "source": [
    "**Q1 (Discussion: else Clause):** In the script of Fig. 4.1, we did not include an else clause in the if…elif statement. What are the possible consequences of this choice?"
   ]
  },
  {
   "cell_type": "markdown",
   "id": "3402d6cd",
   "metadata": {},
   "source": [
    "The corresponding part of the code **generates random number** between 1 to 6, inclusively. If-elif determines the number and increases the related variable. Since there is no chance to have a different number between 1 to 6, we do not need add *else* statement. However, if our code had generated number between, for instance, 0 to 8 ,inclusively, we would not have needed to put an *else* statement unless we would not have wanted to warn, somehow."
   ]
  },
  {
   "cell_type": "markdown",
   "id": "073e892b",
   "metadata": {},
   "source": [
    " "
   ]
  },
  {
   "cell_type": "markdown",
   "id": "90ac9a5e",
   "metadata": {},
   "source": [
    "**Q3(What’s Wrong with This Code?): What is wrong with the following cube function's definition?**\n",
    "```python\n",
    "def cube(x):\n",
    "  \"\"\"Calculate the cube of x.\"\"\"\n",
    "  x ** 3\n",
    "print('The cube of 2 is', cube(2))\n",
    "```"
   ]
  },
  {
   "cell_type": "markdown",
   "id": "08803021",
   "metadata": {},
   "source": [
    "This function must have a **return** statement to use it in *print* function. Because function variables are local to functions only, so we cannot use them unless we **return them**. Therefore, our function must be:\n",
    "```python\n",
    "def cube(x):\n",
    " \"\"\"Calculate the cube of x.\"\"\"\n",
    " return x ** 3\n",
    "print('The cube of 2 is', cube(2)) # => 8\n",
    "```"
   ]
  },
  {
   "cell_type": "markdown",
   "id": "7f690c39",
   "metadata": {},
   "source": [
    "**Q4 (Fill in the Missing Code?) Replace the ***s in the seconds_since_midnight function so that it returns the number of seconds since midnight. The function should receive three integers representing the current time of day."
   ]
  },
  {
   "cell_type": "code",
   "execution_count": 2,
   "id": "d3bbc524",
   "metadata": {},
   "outputs": [
    {
     "name": "stdout",
     "output_type": "stream",
     "text": [
      "Second from 00:00:00 to 01:30:45 is: 48645\n"
     ]
    }
   ],
   "source": [
    "def seconds_since_midnight(hour, minute, second):\n",
    "    \"\"\"Calculates the second since midnight\"\"\"\n",
    "    hour_in_second = hour * 60 * 60\n",
    "    minute_in_second = minute * 60\n",
    "    return hour_in_second + minute_in_second + second\n",
    "\n",
    "print(f'Second from 00:00:00 to 01:30:45 is: {seconds_since_midnight(13,30,45)}')"
   ]
  },
  {
   "cell_type": "code",
   "execution_count": 6,
   "id": "bc2d7822",
   "metadata": {},
   "outputs": [
    {
     "name": "stdout",
     "output_type": "stream",
     "text": [
      "average() missing 1 required positional argument\n"
     ]
    }
   ],
   "source": [
    "def average(*args):\n",
    "    if(len(args) == 0):\n",
    "        print(\"average() missing 1 required positional argument\")\n",
    "        return\n",
    "    return sum(args) / len(args)\n",
    "average()"
   ]
  },
  {
   "cell_type": "markdown",
   "id": "9bbb7bc7",
   "metadata": {},
   "source": [
    " "
   ]
  },
  {
   "cell_type": "markdown",
   "id": "36362158",
   "metadata": {},
   "source": [
    "**Q8 (Rounding Numbers):** Use round to round the float value 13.56449 to the nearest integer, tenths, hundredths and thousandths positions."
   ]
  },
  {
   "cell_type": "code",
   "execution_count": 8,
   "id": "6db9baa8",
   "metadata": {},
   "outputs": [
    {
     "data": {
      "text/plain": [
       "13.564"
      ]
     },
     "execution_count": 8,
     "metadata": {},
     "output_type": "execute_result"
    }
   ],
   "source": [
    "round(13.56449, 3)"
   ]
  },
  {
   "cell_type": "code",
   "execution_count": 18,
   "id": "d3fab56b",
   "metadata": {},
   "outputs": [
    {
     "name": "stdout",
     "output_type": "stream",
     "text": [
      "BANG !!!!\n",
      "AND THEY'RE OFF !!!!\n",
      "OUCH!!TH  T        H  T         H  T                  H     T                           H        T                           H           T                           H           T                            H           T                             H              T                              H              T                              H              T                              H              T                              H                 T                               H                    T                               H                    T                                        H                    T                                        H                       T                                                 H                       T                                                          H                       T                                                          H                       T                                                           H                          T                                                           H                             T                                                           H                             T                                                                    H                             T                                                                    H                                T                                                                    H                                T                                                                             H                                T\n",
      "hare:78, tortoise:33\n",
      "Hare wins!\n"
     ]
    }
   ],
   "source": [
    "import random\n",
    "\n",
    "def tortoise_func():\n",
    "    \"\"\"handles tortoise movement\"\"\"\n",
    "    x = 0\n",
    "    n = random.randint(1,10)\n",
    "    if 1 <= n <= 5:\n",
    "        x += 3\n",
    "    elif 6 <= n <= 7:\n",
    "        x -= 6\n",
    "    else:\n",
    "        x -= 1\n",
    "    if x < 0:\n",
    "        x = 0\n",
    "    \n",
    "    return x\n",
    "\n",
    "def hare_func():\n",
    "    \"\"\"handles hare movement\"\"\"\n",
    "    x = 0\n",
    "    n = random.randint(1,10)\n",
    "    if 1 <= n <= 2:\n",
    "        x += 0\n",
    "    elif 3 <= n <= 4:\n",
    "        x += 9\n",
    "    elif n == 5:\n",
    "        x -= 12\n",
    "    elif 6 <= n <= 8:\n",
    "        x += 1\n",
    "    else:\n",
    "        x -= 2\n",
    "    if x < 0:\n",
    "        x = 0\n",
    "    return x\n",
    "\n",
    "def equal(pos1, pos2):\n",
    "    \"\"\"checks if positions are equal\"\"\"\n",
    "    return pos1 == pos2\n",
    "\n",
    "def print_location(s1, s2, pos1, pos2):\n",
    "    \"\"\"prints T, H or OUCH according to position\"\"\"\n",
    "            \n",
    "    for i in range(pos1-1):\n",
    "        print(' ', end='')\n",
    "    \n",
    "    if equal(pos1, pos2):\n",
    "        print('OUCH!!', end='')\n",
    "    \n",
    "    else:\n",
    "        print(s1, end='')\n",
    "    \n",
    "    for i in range(pos2-1):\n",
    "        print(' ', end='')\n",
    "    print(s2, end='')\n",
    "\n",
    "hare = 0\n",
    "tortoise = 0\n",
    "\n",
    "print(\"BANG !!!!\")\n",
    "print(\"AND THEY'RE OFF !!!!\")\n",
    "\n",
    "while(hare < 70 and tortoise < 70):\n",
    "    hare += hare_func()\n",
    "    tortoise += tortoise_func()\n",
    "    \n",
    "    print_location('H', 'T', hare, tortoise)\n",
    "    \n",
    "    \n",
    "print(f'\\nhare:{hare}, tortoise:{tortoise}')\n",
    "\n",
    "if hare > tortoise:\n",
    "    print('Hare wins!')\n",
    "elif hare < tortoise:\n",
    "    print('Tortotise wins!')\n",
    "else:\n",
    "    print('draw')"
   ]
  },
  {
   "cell_type": "markdown",
   "id": "875db2df",
   "metadata": {},
   "source": [
    " "
   ]
  },
  {
   "cell_type": "markdown",
   "id": "297b9cfd",
   "metadata": {},
   "source": [
    "**Q14 (Arbitrary Argument List):** Calculate the product of a series of integers that are passed to the function product, which receives an arbitrary argument list. Test your function with several calls, each with a different number of arguments."
   ]
  },
  {
   "cell_type": "code",
   "execution_count": 23,
   "id": "6902614d",
   "metadata": {},
   "outputs": [
    {
     "name": "stdout",
     "output_type": "stream",
     "text": [
      "product of 1,2,3,4 and 5 is: 120\n",
      "product of 4,3 and 7 is: 84\n",
      "product of the elements of the list, [2,5,8,4,5,6]: 9600\n",
      "product of 25 and 6 is 150\n"
     ]
    }
   ],
   "source": [
    "def product(*args):\n",
    "    res = 1\n",
    "    for n in args:\n",
    "        res *= n\n",
    "    return res\n",
    "\n",
    "print(f'product of 1,2,3,4 and 5 is: {product(1,2,3,4,5)}')\n",
    "print(f'product of 4,3 and 7 is: {product(4,3,7)}')\n",
    "print(f'product of the elements of the list, [2,5,8,4,5,6]: {product(*[2,5,8,4,5,6])}')\n",
    "print(F'product of 25 and 6 is {product(25,6)}')"
   ]
  },
  {
   "cell_type": "markdown",
   "id": "c149250e",
   "metadata": {},
   "source": [
    "**Q17 (Computer-Assisted Instruction: Varying the Types of Problems):** Modify the previous exercise to allow the user to pick a type of arithmetic problem to study—1 means addition problems only, 2 means subtraction problems only, 3 means multiplication problems only, 4 means division problems only (avoid dividing by 0) and 5 means a random mixture of all these types."
   ]
  },
  {
   "cell_type": "code",
   "execution_count": 11,
   "id": "b3c5ee2e",
   "metadata": {},
   "outputs": [
    {
     "name": "stdout",
     "output_type": "stream",
     "text": [
      "Choose an arithmetic => +-*/(-1 to break)-1\n"
     ]
    }
   ],
   "source": [
    "import math\n",
    "import random\n",
    "correct_responses = [\"Very Good!\", \"Nice Work!\", \"Keep up the good work\"]\n",
    "incorrect_responses = [\"No. Please try again.\", \"Wrong. Try once more.\", \"No. Keep trying.\"]\n",
    "def question_generator(arithmetic, difficulity):\n",
    "    \"\"\"Generates questions according to difficulity and the arithmetic\"\"\"\n",
    "    start = math.pow(10, difficulity - 1)\n",
    "    stop = math.pow(10, difficulity)\n",
    "    \n",
    "    n1, n2 = (random.randint(start, stop) for _ in range(2))\n",
    "    print('How much is ', end = ' ')\n",
    "    res = 0\n",
    "    if arithmetic == '+':\n",
    "        print(f'{n1} plus {n2}')\n",
    "        res = n1 + n2\n",
    "        \n",
    "    elif arithmetic == '-':\n",
    "        print(f'{n1} minus {n2}')\n",
    "        res = n1 - n2\n",
    "        \n",
    "    elif arithmetic == '*':\n",
    "        print(f'{n1} times {n2}')\n",
    "        res = n1 * n2\n",
    "        \n",
    "    elif arithmetic == '/':\n",
    "        print(f'{n1} over {n2}')\n",
    "        res = n1 // n2\n",
    "    \n",
    "    return res\n",
    "    \n",
    "def main():\n",
    "    \"\"\"driver function\"\"\"\n",
    "    while True:\n",
    "        arithmetic = input('Choose an arithmetic => +-*/(-1 to break)')\n",
    "        \n",
    "        if arithmetic == '-1':\n",
    "            break\n",
    "        \n",
    "        difficulity = int(input('Choose a difficulity (1-easy 2-medium 3-hard)'))\n",
    "        \n",
    "        res = question_generator(arithmetic, difficulity)\n",
    "        res_student = int(input('?: '))\n",
    "        n = random.randint(0, 2)\n",
    "        \n",
    "        while res_student != res:\n",
    "            print(incorrect_responses[n])\n",
    "            res_student = int(input('?: '))\n",
    "            n = random.randint(0, 2) # to show different responses\n",
    "        \n",
    "        else:\n",
    "            print(correct_responses[n])\n",
    "        \n",
    "main()"
   ]
  },
  {
   "cell_type": "code",
   "execution_count": null,
   "id": "904207ec",
   "metadata": {},
   "outputs": [],
   "source": []
  }
 ],
 "metadata": {
  "kernelspec": {
   "display_name": "Python 3 (ipykernel)",
   "language": "python",
   "name": "python3"
  },
  "language_info": {
   "codemirror_mode": {
    "name": "ipython",
    "version": 3
   },
   "file_extension": ".py",
   "mimetype": "text/x-python",
   "name": "python",
   "nbconvert_exporter": "python",
   "pygments_lexer": "ipython3",
   "version": "3.9.12"
  }
 },
 "nbformat": 4,
 "nbformat_minor": 5
}
